{
 "cells": [
  {
   "cell_type": "markdown",
   "id": "7ebc1dd0",
   "metadata": {},
   "source": [
    "## Competitie model: <br>\n",
    "Floris Menninga <br>\n",
    "Datum: 08-04-2025 <br>\n",
    "Versie: 1"
   ]
  },
  {
   "cell_type": "code",
   "execution_count": 4,
   "id": "7a2f2eee",
   "metadata": {},
   "outputs": [
    {
     "name": "stdout",
     "output_type": "stream",
     "text": [
      "\u001b[33mDEPRECATION: Loading egg at /home/floris/anaconda3/lib/python3.12/site-packages/exo-0.0.1-py3.12.egg is deprecated. pip 24.3 will enforce this behaviour change. A possible replacement is to use pip for package installation. Discussion can be found at https://github.com/pypa/pip/issues/12330\u001b[0m\u001b[33m\n",
      "\u001b[0m\u001b[33mDEPRECATION: Loading egg at /home/floris/anaconda3/lib/python3.12/site-packages/nvidia_ml_py-12.560.30-py3.12.egg is deprecated. pip 24.3 will enforce this behaviour change. A possible replacement is to use pip for package installation. Discussion can be found at https://github.com/pypa/pip/issues/12330\u001b[0m\u001b[33m\n",
      "\u001b[0m\u001b[33mDEPRECATION: Loading egg at /home/floris/anaconda3/lib/python3.12/site-packages/tinygrad-0.10.1-py3.12.egg is deprecated. pip 24.3 will enforce this behaviour change. A possible replacement is to use pip for package installation. Discussion can be found at https://github.com/pypa/pip/issues/12330\u001b[0m\u001b[33m\n",
      "\u001b[0m\u001b[33mDEPRECATION: Loading egg at /home/floris/anaconda3/lib/python3.12/site-packages/uvloop-0.21.0-py3.12-linux-x86_64.egg is deprecated. pip 24.3 will enforce this behaviour change. A possible replacement is to use pip for package installation. Discussion can be found at https://github.com/pypa/pip/issues/12330\u001b[0m\u001b[33m\n",
      "\u001b[0m\u001b[33mDEPRECATION: Loading egg at /home/floris/anaconda3/lib/python3.12/site-packages/uuid-1.30-py3.12.egg is deprecated. pip 24.3 will enforce this behaviour change. A possible replacement is to use pip for package installation. Discussion can be found at https://github.com/pypa/pip/issues/12330\u001b[0m\u001b[33m\n",
      "\u001b[0m\u001b[33mDEPRECATION: Loading egg at /home/floris/anaconda3/lib/python3.12/site-packages/transformers-4.46.3-py3.12.egg is deprecated. pip 24.3 will enforce this behaviour change. A possible replacement is to use pip for package installation. Discussion can be found at https://github.com/pypa/pip/issues/12330\u001b[0m\u001b[33m\n",
      "\u001b[0m\u001b[33mDEPRECATION: Loading egg at /home/floris/anaconda3/lib/python3.12/site-packages/tqdm-4.66.4-py3.12.egg is deprecated. pip 24.3 will enforce this behaviour change. A possible replacement is to use pip for package installation. Discussion can be found at https://github.com/pypa/pip/issues/12330\u001b[0m\u001b[33m\n",
      "\u001b[0m\u001b[33mDEPRECATION: Loading egg at /home/floris/anaconda3/lib/python3.12/site-packages/scapy-2.6.1-py3.12.egg is deprecated. pip 24.3 will enforce this behaviour change. A possible replacement is to use pip for package installation. Discussion can be found at https://github.com/pypa/pip/issues/12330\u001b[0m\u001b[33m\n",
      "\u001b[0m\u001b[33mDEPRECATION: Loading egg at /home/floris/anaconda3/lib/python3.12/site-packages/pydantic-2.9.2-py3.12.egg is deprecated. pip 24.3 will enforce this behaviour change. A possible replacement is to use pip for package installation. Discussion can be found at https://github.com/pypa/pip/issues/12330\u001b[0m\u001b[33m\n",
      "\u001b[0m\u001b[33mDEPRECATION: Loading egg at /home/floris/anaconda3/lib/python3.12/site-packages/psutil-6.0.0-py3.12-linux-x86_64.egg is deprecated. pip 24.3 will enforce this behaviour change. A possible replacement is to use pip for package installation. Discussion can be found at https://github.com/pypa/pip/issues/12330\u001b[0m\u001b[33m\n",
      "\u001b[0m\u001b[33mDEPRECATION: Loading egg at /home/floris/anaconda3/lib/python3.12/site-packages/protobuf-5.28.1-py3.12-linux-x86_64.egg is deprecated. pip 24.3 will enforce this behaviour change. A possible replacement is to use pip for package installation. Discussion can be found at https://github.com/pypa/pip/issues/12330\u001b[0m\u001b[33m\n",
      "\u001b[0m\u001b[33mDEPRECATION: Loading egg at /home/floris/anaconda3/lib/python3.12/site-packages/prometheus_client-0.20.0-py3.12.egg is deprecated. pip 24.3 will enforce this behaviour change. A possible replacement is to use pip for package installation. Discussion can be found at https://github.com/pypa/pip/issues/12330\u001b[0m\u001b[33m\n",
      "\u001b[0m\u001b[33mDEPRECATION: Loading egg at /home/floris/anaconda3/lib/python3.12/site-packages/opencv_python-4.10.0.84-py3.12-linux-x86_64.egg is deprecated. pip 24.3 will enforce this behaviour change. A possible replacement is to use pip for package installation. Discussion can be found at https://github.com/pypa/pip/issues/12330\u001b[0m\u001b[33m\n",
      "\u001b[0m\u001b[33mDEPRECATION: Loading egg at /home/floris/anaconda3/lib/python3.12/site-packages/Nuitka-2.5.1-py3.12-linux-x86_64.egg is deprecated. pip 24.3 will enforce this behaviour change. A possible replacement is to use pip for package installation. Discussion can be found at https://github.com/pypa/pip/issues/12330\u001b[0m\u001b[33m\n",
      "\u001b[0m\u001b[33mDEPRECATION: Loading egg at /home/floris/anaconda3/lib/python3.12/site-packages/numpy-2.0.0-py3.12-linux-x86_64.egg is deprecated. pip 24.3 will enforce this behaviour change. A possible replacement is to use pip for package installation. Discussion can be found at https://github.com/pypa/pip/issues/12330\u001b[0m\u001b[33m\n",
      "\u001b[0m\u001b[33mDEPRECATION: Loading egg at /home/floris/anaconda3/lib/python3.12/site-packages/grpcio_tools-1.68.0-py3.12-linux-x86_64.egg is deprecated. pip 24.3 will enforce this behaviour change. A possible replacement is to use pip for package installation. Discussion can be found at https://github.com/pypa/pip/issues/12330\u001b[0m\u001b[33m\n",
      "\u001b[0m\u001b[33mDEPRECATION: Loading egg at /home/floris/anaconda3/lib/python3.12/site-packages/grpcio-1.68.0-py3.12-linux-x86_64.egg is deprecated. pip 24.3 will enforce this behaviour change. A possible replacement is to use pip for package installation. Discussion can be found at https://github.com/pypa/pip/issues/12330\u001b[0m\u001b[33m\n",
      "\u001b[0m\u001b[33mDEPRECATION: Loading egg at /home/floris/anaconda3/lib/python3.12/site-packages/aiofiles-24.1.0-py3.12.egg is deprecated. pip 24.3 will enforce this behaviour change. A possible replacement is to use pip for package installation. Discussion can be found at https://github.com/pypa/pip/issues/12330\u001b[0m\u001b[33m\n",
      "\u001b[0m\u001b[33mDEPRECATION: Loading egg at /home/floris/anaconda3/lib/python3.12/site-packages/aiohttp_cors-0.7.0-py3.12.egg is deprecated. pip 24.3 will enforce this behaviour change. A possible replacement is to use pip for package installation. Discussion can be found at https://github.com/pypa/pip/issues/12330\u001b[0m\u001b[33m\n",
      "\u001b[0m\u001b[33mDEPRECATION: Loading egg at /home/floris/anaconda3/lib/python3.12/site-packages/aiohttp-3.10.11-py3.12-linux-x86_64.egg is deprecated. pip 24.3 will enforce this behaviour change. A possible replacement is to use pip for package installation. Discussion can be found at https://github.com/pypa/pip/issues/12330\u001b[0m\u001b[33m\n",
      "\u001b[0m\u001b[33mDEPRECATION: Loading egg at /home/floris/anaconda3/lib/python3.12/site-packages/safetensors-0.5.2-py3.12-linux-x86_64.egg is deprecated. pip 24.3 will enforce this behaviour change. A possible replacement is to use pip for package installation. Discussion can be found at https://github.com/pypa/pip/issues/12330\u001b[0m\u001b[33m\n",
      "\u001b[0m\u001b[33mDEPRECATION: Loading egg at /home/floris/anaconda3/lib/python3.12/site-packages/tokenizers-0.20.4-py3.12-linux-x86_64.egg is deprecated. pip 24.3 will enforce this behaviour change. A possible replacement is to use pip for package installation. Discussion can be found at https://github.com/pypa/pip/issues/12330\u001b[0m\u001b[33m\n",
      "\u001b[0m\u001b[33mDEPRECATION: Loading egg at /home/floris/anaconda3/lib/python3.12/site-packages/huggingface_hub-0.28.1-py3.12.egg is deprecated. pip 24.3 will enforce this behaviour change. A possible replacement is to use pip for package installation. Discussion can be found at https://github.com/pypa/pip/issues/12330\u001b[0m\u001b[33m\n",
      "\u001b[0m\u001b[33mDEPRECATION: Loading egg at /home/floris/anaconda3/lib/python3.12/site-packages/pydantic_core-2.23.4-py3.12-linux-x86_64.egg is deprecated. pip 24.3 will enforce this behaviour change. A possible replacement is to use pip for package installation. Discussion can be found at https://github.com/pypa/pip/issues/12330\u001b[0m\u001b[33m\n",
      "\u001b[0m\u001b[33mDEPRECATION: Loading egg at /home/floris/anaconda3/lib/python3.12/site-packages/ordered_set-4.1.0-py3.12.egg is deprecated. pip 24.3 will enforce this behaviour change. A possible replacement is to use pip for package installation. Discussion can be found at https://github.com/pypa/pip/issues/12330\u001b[0m\u001b[33m\n",
      "\u001b[0m\u001b[33mDEPRECATION: Loading egg at /home/floris/anaconda3/lib/python3.12/site-packages/yarl-1.18.3-py3.12.egg is deprecated. pip 24.3 will enforce this behaviour change. A possible replacement is to use pip for package installation. Discussion can be found at https://github.com/pypa/pip/issues/12330\u001b[0m\u001b[33m\n",
      "\u001b[0m\u001b[33mDEPRECATION: Loading egg at /home/floris/anaconda3/lib/python3.12/site-packages/propcache-0.2.1-py3.12.egg is deprecated. pip 24.3 will enforce this behaviour change. A possible replacement is to use pip for package installation. Discussion can be found at https://github.com/pypa/pip/issues/12330\u001b[0m\u001b[33m\n",
      "\u001b[0mRequirement already satisfied: scikit-learn in /home/floris/anaconda3/lib/python3.12/site-packages (1.5.1)\n",
      "Requirement already satisfied: numpy>=1.19.5 in /home/floris/anaconda3/lib/python3.12/site-packages/numpy-2.0.0-py3.12-linux-x86_64.egg (from scikit-learn) (2.0.0)\n",
      "Requirement already satisfied: scipy>=1.6.0 in /home/floris/anaconda3/lib/python3.12/site-packages (from scikit-learn) (1.13.1)\n",
      "Requirement already satisfied: joblib>=1.2.0 in /home/floris/anaconda3/lib/python3.12/site-packages (from scikit-learn) (1.4.2)\n",
      "Requirement already satisfied: threadpoolctl>=3.1.0 in /home/floris/anaconda3/lib/python3.12/site-packages (from scikit-learn) (3.5.0)\n"
     ]
    }
   ],
   "source": [
    "#!pip install pandas numpy seaborn\n",
    "! pip install scikit-learn\n",
    "#from imblearn.over_sampling import SMOTE\n",
    "\n",
    "import pandas as pd\n",
    "from matplotlib import pyplot as plt\n",
    "import numpy as np\n",
    "import seaborn as sns\n",
    "from scipy import stats\n",
    "import sklearn\n",
    "from sklearn.model_selection import train_test_split\n",
    "from sklearn.impute import KNNImputer"
   ]
  },
  {
   "cell_type": "code",
   "execution_count": 5,
   "id": "386f20aa",
   "metadata": {},
   "outputs": [],
   "source": [
    "# Maak en verbind met database:\n",
    "import sqlite3\n",
    "import pandas as pd\n",
    "\n",
    "\n",
    "try:\n",
    "\n",
    "    with open(\"/home/floris/Documenten/git_repo/Hanze_ML_Demo/DB/database.sql\", \"r\") as sql_file:\n",
    "        sql_script = sql_file.read()\n",
    "\n",
    "\n",
    "    db = sqlite3.connect(database=\"DB/database.db\")\n",
    "    cursor = db.cursor()\n",
    "    \n",
    "    cursor.executescript(sql_script)\n",
    "    db.commit()\n",
    "\n",
    "except Exception as errortje:\n",
    "    print(\"Error: De database kon niet aangemaakt worden...\")\n",
    "    print(errortje)\n",
    "\n",
    "\n",
    "df = pd.read_sql_query(\"select * from vragenlijst_data;\", db)"
   ]
  },
  {
   "cell_type": "code",
   "execution_count": 6,
   "id": "eae9a477",
   "metadata": {},
   "outputs": [
    {
     "data": {
      "application/vnd.microsoft.datawrangler.viewer.v0+json": {
       "columns": [
        {
         "name": "index",
         "rawType": "int64",
         "type": "integer"
        },
        {
         "name": "id",
         "rawType": "int64",
         "type": "integer"
        },
        {
         "name": "social_media",
         "rawType": "int64",
         "type": "integer"
        },
        {
         "name": "mp3_speler",
         "rawType": "int64",
         "type": "integer"
        },
        {
         "name": "krant",
         "rawType": "int64",
         "type": "integer"
        },
        {
         "name": "telefoon",
         "rawType": "int64",
         "type": "integer"
        },
        {
         "name": "bellen_of_email",
         "rawType": "int64",
         "type": "integer"
        },
        {
         "name": "smileys",
         "rawType": "int64",
         "type": "integer"
        },
        {
         "name": "werkelijke_leeftijd",
         "rawType": "int64",
         "type": "integer"
        },
        {
         "name": "voorspelde_generatie",
         "rawType": "object",
         "type": "unknown"
        }
       ],
       "ref": "5095be83-e666-4180-9d14-fa2dd8d168f4",
       "rows": [
        [
         "0",
         "1",
         "1",
         "0",
         "0",
         "12",
         "1",
         "1",
         "19",
         null
        ],
        [
         "1",
         "2",
         "1",
         "0",
         "0",
         "11",
         "1",
         "1",
         "21",
         null
        ],
        [
         "2",
         "3",
         "1",
         "0",
         "0",
         "12",
         "1",
         "1",
         "22",
         null
        ],
        [
         "3",
         "4",
         "1",
         "0",
         "0",
         "10",
         "1",
         "1",
         "24",
         null
        ],
        [
         "4",
         "5",
         "1",
         "0",
         "0",
         "11",
         "1",
         "1",
         "25",
         null
        ]
       ],
       "shape": {
        "columns": 9,
        "rows": 5
       }
      },
      "text/html": [
       "<div>\n",
       "<style scoped>\n",
       "    .dataframe tbody tr th:only-of-type {\n",
       "        vertical-align: middle;\n",
       "    }\n",
       "\n",
       "    .dataframe tbody tr th {\n",
       "        vertical-align: top;\n",
       "    }\n",
       "\n",
       "    .dataframe thead th {\n",
       "        text-align: right;\n",
       "    }\n",
       "</style>\n",
       "<table border=\"1\" class=\"dataframe\">\n",
       "  <thead>\n",
       "    <tr style=\"text-align: right;\">\n",
       "      <th></th>\n",
       "      <th>id</th>\n",
       "      <th>social_media</th>\n",
       "      <th>mp3_speler</th>\n",
       "      <th>krant</th>\n",
       "      <th>telefoon</th>\n",
       "      <th>bellen_of_email</th>\n",
       "      <th>smileys</th>\n",
       "      <th>werkelijke_leeftijd</th>\n",
       "      <th>voorspelde_generatie</th>\n",
       "    </tr>\n",
       "  </thead>\n",
       "  <tbody>\n",
       "    <tr>\n",
       "      <th>0</th>\n",
       "      <td>1</td>\n",
       "      <td>1</td>\n",
       "      <td>0</td>\n",
       "      <td>0</td>\n",
       "      <td>12</td>\n",
       "      <td>1</td>\n",
       "      <td>1</td>\n",
       "      <td>19</td>\n",
       "      <td>None</td>\n",
       "    </tr>\n",
       "    <tr>\n",
       "      <th>1</th>\n",
       "      <td>2</td>\n",
       "      <td>1</td>\n",
       "      <td>0</td>\n",
       "      <td>0</td>\n",
       "      <td>11</td>\n",
       "      <td>1</td>\n",
       "      <td>1</td>\n",
       "      <td>21</td>\n",
       "      <td>None</td>\n",
       "    </tr>\n",
       "    <tr>\n",
       "      <th>2</th>\n",
       "      <td>3</td>\n",
       "      <td>1</td>\n",
       "      <td>0</td>\n",
       "      <td>0</td>\n",
       "      <td>12</td>\n",
       "      <td>1</td>\n",
       "      <td>1</td>\n",
       "      <td>22</td>\n",
       "      <td>None</td>\n",
       "    </tr>\n",
       "    <tr>\n",
       "      <th>3</th>\n",
       "      <td>4</td>\n",
       "      <td>1</td>\n",
       "      <td>0</td>\n",
       "      <td>0</td>\n",
       "      <td>10</td>\n",
       "      <td>1</td>\n",
       "      <td>1</td>\n",
       "      <td>24</td>\n",
       "      <td>None</td>\n",
       "    </tr>\n",
       "    <tr>\n",
       "      <th>4</th>\n",
       "      <td>5</td>\n",
       "      <td>1</td>\n",
       "      <td>0</td>\n",
       "      <td>0</td>\n",
       "      <td>11</td>\n",
       "      <td>1</td>\n",
       "      <td>1</td>\n",
       "      <td>25</td>\n",
       "      <td>None</td>\n",
       "    </tr>\n",
       "  </tbody>\n",
       "</table>\n",
       "</div>"
      ],
      "text/plain": [
       "   id  social_media  mp3_speler  krant  telefoon  bellen_of_email  smileys  \\\n",
       "0   1             1           0      0        12                1        1   \n",
       "1   2             1           0      0        11                1        1   \n",
       "2   3             1           0      0        12                1        1   \n",
       "3   4             1           0      0        10                1        1   \n",
       "4   5             1           0      0        11                1        1   \n",
       "\n",
       "   werkelijke_leeftijd voorspelde_generatie  \n",
       "0                   19                 None  \n",
       "1                   21                 None  \n",
       "2                   22                 None  \n",
       "3                   24                 None  \n",
       "4                   25                 None  "
      ]
     },
     "execution_count": 6,
     "metadata": {},
     "output_type": "execute_result"
    }
   ],
   "source": [
    "df.head()"
   ]
  },
  {
   "cell_type": "code",
   "execution_count": 7,
   "id": "95523fc5",
   "metadata": {},
   "outputs": [
    {
     "data": {
      "image/png": "[encoded data removed]",
      "text/plain": [
       "<Figure size 1600x1500 with 9 Axes>"
      ]
     },
     "metadata": {},
     "output_type": "display_data"
    }
   ],
   "source": [
    "df.hist( figsize=(16.0, 15));"
   ]
  },
  {
   "cell_type": "markdown",
   "id": "ca8a5238",
   "metadata": {},
   "source": [
    "Transformatie:\n"
   ]
  },
  {
   "cell_type": "code",
   "execution_count": null,
   "id": "5768c758",
   "metadata": {},
   "outputs": [],
   "source": [
    "# logdata = np.sqrt(mhs_df[[\"leeftijd\", \"sex\", \"MHS\", \"lengte\", \"bmi\", \"slaapscore\", \"maandinkomen\", \"beweging-per-week\", \"bovendruk\", \"onderdruk\", \"tv-per-dag\"]])\n",
    "# lifelines_df_transformed_test = pd.DataFrame()\n",
    "\n",
    "# for attribute in [\"leeftijd\", \"sex\", \"MHS\", \"lengte\", \"bmi\", \"slaapscore\", \"maandinkomen\", \"beweging-per-week\", \"bovendruk\", \"onderdruk\", \"tv-per-dag\"]:\n",
    "#     index = codebook[\"attribute\"].index(attribute)\n",
    "#     codebook[\"unit\"][index] = \"-\"\n",
    "#     lifelines_df_transformed_test.rename(columns={attribute: attribute}, inplace=True)\n",
    "#     lifelines_df_transformed_test[attribute] = logdata[attribute]\n",
    "\n",
    "# pd.DataFrame(codebook).set_index(\"attribute\")"
   ]
  },
  {
   "cell_type": "code",
   "execution_count": 8,
   "id": "73de4ddf",
   "metadata": {},
   "outputs": [
    {
     "data": {
      "text/plain": [
       "Text(0.5, 1.0, 'Paarsgewijze correlaties')"
      ]
     },
     "execution_count": 8,
     "metadata": {},
     "output_type": "execute_result"
    },
    {
     "data": {
      "image/png": "[encoded data removed]",
      "text/plain": [
       "<Figure size 640x480 with 2 Axes>"
      ]
     },
     "metadata": {},
     "output_type": "display_data"
    }
   ],
   "source": [
    "axs = sns.heatmap(df[[\"social_media\", \"mp3_speler\", \"krant\", \"telefoon\", \"bellen_of_email\", \"smileys\"]].corr(), annot=True, annot_kws={\"fontsize\": \"x-small\"}, cmap=\"viridis\", vmin=0.0, vmax=1.0, square=True)\n",
    "axs.set_title(\"Paarsgewijze correlaties\")"
   ]
  },
  {
   "cell_type": "code",
   "execution_count": 9,
   "id": "11d69715",
   "metadata": {},
   "outputs": [],
   "source": [
    "import pandas as pd\n",
    "from matplotlib import pyplot as plt\n",
    "import numpy as np\n",
    "from scipy import stats\n",
    "import sklearn\n",
    "from sklearn.model_selection import train_test_split\n",
    "from sklearn.impute import KNNImputer\n",
    "from sklearn.pipeline import Pipeline\n",
    "from sklearn.compose import ColumnTransformer\n",
    "from sklearn.impute import SimpleImputer\n",
    "from sklearn.preprocessing import StandardScaler, OneHotEncoder, OrdinalEncoder\n",
    "from sklearn.experimental import enable_iterative_imputer\n",
    "from sklearn.svm import SVC\n",
    "from sklearn.metrics import RocCurveDisplay\n",
    "import joblib"
   ]
  },
  {
   "cell_type": "code",
   "execution_count": 195,
   "id": "9fb5545c",
   "metadata": {},
   "outputs": [
    {
     "data": {
      "application/vnd.microsoft.datawrangler.viewer.v0+json": {
       "columns": [
        {
         "name": "index",
         "rawType": "int64",
         "type": "integer"
        },
        {
         "name": "telefoon",
         "rawType": "int64",
         "type": "integer"
        }
       ],
       "ref": "e3c71002-c009-43b5-92fe-c50ec4115a6f",
       "rows": [
        [
         "0",
         "12"
        ],
        [
         "1",
         "11"
        ],
        [
         "2",
         "12"
        ],
        [
         "3",
         "10"
        ],
        [
         "4",
         "11"
        ],
        [
         "5",
         "12"
        ],
        [
         "6",
         "10"
        ],
        [
         "7",
         "9"
        ],
        [
         "8",
         "8"
        ],
        [
         "9",
         "8"
        ],
        [
         "10",
         "7"
        ],
        [
         "11",
         "7"
        ],
        [
         "12",
         "6"
        ],
        [
         "13",
         "6"
        ],
        [
         "14",
         "6"
        ],
        [
         "15",
         "5"
        ],
        [
         "16",
         "5"
        ],
        [
         "17",
         "4"
        ],
        [
         "18",
         "4"
        ],
        [
         "19",
         "3"
        ],
        [
         "20",
         "3"
        ],
        [
         "21",
         "2"
        ],
        [
         "22",
         "2"
        ],
        [
         "23",
         "1"
        ],
        [
         "24",
         "1"
        ],
        [
         "25",
         "0"
        ],
        [
         "26",
         "0"
        ],
        [
         "27",
         "0"
        ],
        [
         "28",
         "0"
        ],
        [
         "29",
         "9"
        ],
        [
         "30",
         "5"
        ],
        [
         "31",
         "8"
        ],
        [
         "32",
         "2"
        ],
        [
         "33",
         "12"
        ],
        [
         "34",
         "3"
        ],
        [
         "35",
         "7"
        ],
        [
         "36",
         "1"
        ],
        [
         "37",
         "10"
        ],
        [
         "38",
         "2"
        ]
       ],
       "shape": {
        "columns": 1,
        "rows": 39
       }
      },
      "text/plain": [
       "0     12\n",
       "1     11\n",
       "2     12\n",
       "3     10\n",
       "4     11\n",
       "5     12\n",
       "6     10\n",
       "7      9\n",
       "8      8\n",
       "9      8\n",
       "10     7\n",
       "11     7\n",
       "12     6\n",
       "13     6\n",
       "14     6\n",
       "15     5\n",
       "16     5\n",
       "17     4\n",
       "18     4\n",
       "19     3\n",
       "20     3\n",
       "21     2\n",
       "22     2\n",
       "23     1\n",
       "24     1\n",
       "25     0\n",
       "26     0\n",
       "27     0\n",
       "28     0\n",
       "29     9\n",
       "30     5\n",
       "31     8\n",
       "32     2\n",
       "33    12\n",
       "34     3\n",
       "35     7\n",
       "36     1\n",
       "37    10\n",
       "38     2\n",
       "Name: telefoon, dtype: int64"
      ]
     },
     "execution_count": 195,
     "metadata": {},
     "output_type": "execute_result"
    }
   ],
   "source": [
    "df[\"telefoon\"]"
   ]
  },
  {
   "cell_type": "code",
   "execution_count": 10,
   "id": "bcbf37df",
   "metadata": {},
   "outputs": [],
   "source": [
    "features_ordinal = df[\"telefoon\"]\n",
    "features_categorical = df[[\"mp3_speler\", \"krant\", \"bellen_of_email\", \"smileys\"]]\n",
    "\n",
    "to_predict = df[\"voorspelde_generatie\"]\n",
    "\n",
    "all_features = features_ordinal + features_categorical\n",
    "\n"
   ]
  },
  {
   "cell_type": "code",
   "execution_count": 118,
   "id": "1d61a581",
   "metadata": {},
   "outputs": [],
   "source": [
    "from sklearn.experimental import enable_iterative_imputer\n",
    "from sklearn.impute import IterativeImputer\n",
    "\n",
    "\n",
    "X_ordinal = features_ordinal\n",
    "X_categorical = features_categorical\n",
    "\n",
    "# Dit is voor de vraag met afbeelding van de 12 telefoons waaruit de gebruiker moet kiezen. ordinaal omdat het productiejaar oploopt.\n",
    "onehot_encoder = OrdinalEncoder(\n",
    "    categories=[1,2,3,4,5,6,7,8,9,10,11,12],\n",
    "    handle_unknown='use_encoded_value', \n",
    "    unknown_value=-1\n",
    ")\n",
    "\n",
    "#X_ordinal_encoded = onehot_encoder.fit_transform(X_ordinal)\n",
    "\n",
    "#X = np.hstack((X_ordinal, X_categorical))\n",
    "\n",
    "y = df[[\"werkelijke_leeftijd\"]]\n",
    "#y = target_imputer.fit_transform(y_not_imputed.values.reshape(-1, 1)).ravel()\n",
    "\n",
    "\n",
    "# validation_df = pd.read_csv(\"/home/floris/Documenten/ML/Competitie_Nieuw/competition-train-noclass(1).csv\")\n",
    "# validation_df.index += 1\n",
    "\n",
    "# validation_y_not_imputed = validation_df[features]\n",
    "\n"
   ]
  },
  {
   "cell_type": "code",
   "execution_count": 139,
   "id": "1e450464",
   "metadata": {},
   "outputs": [
    {
     "data": {
      "application/vnd.microsoft.datawrangler.viewer.v0+json": {
       "columns": [
        {
         "name": "index",
         "rawType": "int64",
         "type": "integer"
        },
        {
         "name": "telefoon",
         "rawType": "int64",
         "type": "integer"
        }
       ],
       "ref": "513db221-9a2e-4422-b70b-2c9882693cfc",
       "rows": [
        [
         "0",
         "12"
        ],
        [
         "1",
         "11"
        ],
        [
         "2",
         "12"
        ],
        [
         "3",
         "10"
        ],
        [
         "4",
         "11"
        ],
        [
         "5",
         "12"
        ],
        [
         "6",
         "10"
        ],
        [
         "7",
         "9"
        ],
        [
         "8",
         "8"
        ],
        [
         "9",
         "8"
        ],
        [
         "10",
         "7"
        ],
        [
         "11",
         "7"
        ],
        [
         "12",
         "6"
        ],
        [
         "13",
         "6"
        ],
        [
         "14",
         "6"
        ],
        [
         "15",
         "5"
        ],
        [
         "16",
         "5"
        ],
        [
         "17",
         "4"
        ],
        [
         "18",
         "4"
        ],
        [
         "19",
         "3"
        ],
        [
         "20",
         "3"
        ],
        [
         "21",
         "2"
        ],
        [
         "22",
         "2"
        ],
        [
         "23",
         "1"
        ],
        [
         "24",
         "1"
        ],
        [
         "25",
         "0"
        ],
        [
         "26",
         "0"
        ],
        [
         "27",
         "0"
        ],
        [
         "28",
         "0"
        ],
        [
         "29",
         "9"
        ],
        [
         "30",
         "5"
        ],
        [
         "31",
         "8"
        ],
        [
         "32",
         "2"
        ],
        [
         "33",
         "12"
        ],
        [
         "34",
         "3"
        ],
        [
         "35",
         "7"
        ],
        [
         "36",
         "1"
        ],
        [
         "37",
         "10"
        ],
        [
         "38",
         "2"
        ]
       ],
       "shape": {
        "columns": 1,
        "rows": 39
       }
      },
      "text/html": [
       "<div>\n",
       "<style scoped>\n",
       "    .dataframe tbody tr th:only-of-type {\n",
       "        vertical-align: middle;\n",
       "    }\n",
       "\n",
       "    .dataframe tbody tr th {\n",
       "        vertical-align: top;\n",
       "    }\n",
       "\n",
       "    .dataframe thead th {\n",
       "        text-align: right;\n",
       "    }\n",
       "</style>\n",
       "<table border=\"1\" class=\"dataframe\">\n",
       "  <thead>\n",
       "    <tr style=\"text-align: right;\">\n",
       "      <th></th>\n",
       "      <th>telefoon</th>\n",
       "    </tr>\n",
       "  </thead>\n",
       "  <tbody>\n",
       "    <tr>\n",
       "      <th>0</th>\n",
       "      <td>12</td>\n",
       "    </tr>\n",
       "    <tr>\n",
       "      <th>1</th>\n",
       "      <td>11</td>\n",
       "    </tr>\n",
       "    <tr>\n",
       "      <th>2</th>\n",
       "      <td>12</td>\n",
       "    </tr>\n",
       "    <tr>\n",
       "      <th>3</th>\n",
       "      <td>10</td>\n",
       "    </tr>\n",
       "    <tr>\n",
       "      <th>4</th>\n",
       "      <td>11</td>\n",
       "    </tr>\n",
       "    <tr>\n",
       "      <th>5</th>\n",
       "      <td>12</td>\n",
       "    </tr>\n",
       "    <tr>\n",
       "      <th>6</th>\n",
       "      <td>10</td>\n",
       "    </tr>\n",
       "    <tr>\n",
       "      <th>7</th>\n",
       "      <td>9</td>\n",
       "    </tr>\n",
       "    <tr>\n",
       "      <th>8</th>\n",
       "      <td>8</td>\n",
       "    </tr>\n",
       "    <tr>\n",
       "      <th>9</th>\n",
       "      <td>8</td>\n",
       "    </tr>\n",
       "    <tr>\n",
       "      <th>10</th>\n",
       "      <td>7</td>\n",
       "    </tr>\n",
       "    <tr>\n",
       "      <th>11</th>\n",
       "      <td>7</td>\n",
       "    </tr>\n",
       "    <tr>\n",
       "      <th>12</th>\n",
       "      <td>6</td>\n",
       "    </tr>\n",
       "    <tr>\n",
       "      <th>13</th>\n",
       "      <td>6</td>\n",
       "    </tr>\n",
       "    <tr>\n",
       "      <th>14</th>\n",
       "      <td>6</td>\n",
       "    </tr>\n",
       "    <tr>\n",
       "      <th>15</th>\n",
       "      <td>5</td>\n",
       "    </tr>\n",
       "    <tr>\n",
       "      <th>16</th>\n",
       "      <td>5</td>\n",
       "    </tr>\n",
       "    <tr>\n",
       "      <th>17</th>\n",
       "      <td>4</td>\n",
       "    </tr>\n",
       "    <tr>\n",
       "      <th>18</th>\n",
       "      <td>4</td>\n",
       "    </tr>\n",
       "    <tr>\n",
       "      <th>19</th>\n",
       "      <td>3</td>\n",
       "    </tr>\n",
       "    <tr>\n",
       "      <th>20</th>\n",
       "      <td>3</td>\n",
       "    </tr>\n",
       "    <tr>\n",
       "      <th>21</th>\n",
       "      <td>2</td>\n",
       "    </tr>\n",
       "    <tr>\n",
       "      <th>22</th>\n",
       "      <td>2</td>\n",
       "    </tr>\n",
       "    <tr>\n",
       "      <th>23</th>\n",
       "      <td>1</td>\n",
       "    </tr>\n",
       "    <tr>\n",
       "      <th>24</th>\n",
       "      <td>1</td>\n",
       "    </tr>\n",
       "    <tr>\n",
       "      <th>25</th>\n",
       "      <td>0</td>\n",
       "    </tr>\n",
       "    <tr>\n",
       "      <th>26</th>\n",
       "      <td>0</td>\n",
       "    </tr>\n",
       "    <tr>\n",
       "      <th>27</th>\n",
       "      <td>0</td>\n",
       "    </tr>\n",
       "    <tr>\n",
       "      <th>28</th>\n",
       "      <td>0</td>\n",
       "    </tr>\n",
       "    <tr>\n",
       "      <th>29</th>\n",
       "      <td>9</td>\n",
       "    </tr>\n",
       "    <tr>\n",
       "      <th>30</th>\n",
       "      <td>5</td>\n",
       "    </tr>\n",
       "    <tr>\n",
       "      <th>31</th>\n",
       "      <td>8</td>\n",
       "    </tr>\n",
       "    <tr>\n",
       "      <th>32</th>\n",
       "      <td>2</td>\n",
       "    </tr>\n",
       "    <tr>\n",
       "      <th>33</th>\n",
       "      <td>12</td>\n",
       "    </tr>\n",
       "    <tr>\n",
       "      <th>34</th>\n",
       "      <td>3</td>\n",
       "    </tr>\n",
       "    <tr>\n",
       "      <th>35</th>\n",
       "      <td>7</td>\n",
       "    </tr>\n",
       "    <tr>\n",
       "      <th>36</th>\n",
       "      <td>1</td>\n",
       "    </tr>\n",
       "    <tr>\n",
       "      <th>37</th>\n",
       "      <td>10</td>\n",
       "    </tr>\n",
       "    <tr>\n",
       "      <th>38</th>\n",
       "      <td>2</td>\n",
       "    </tr>\n",
       "  </tbody>\n",
       "</table>\n",
       "</div>"
      ],
      "text/plain": [
       "    telefoon\n",
       "0         12\n",
       "1         11\n",
       "2         12\n",
       "3         10\n",
       "4         11\n",
       "5         12\n",
       "6         10\n",
       "7          9\n",
       "8          8\n",
       "9          8\n",
       "10         7\n",
       "11         7\n",
       "12         6\n",
       "13         6\n",
       "14         6\n",
       "15         5\n",
       "16         5\n",
       "17         4\n",
       "18         4\n",
       "19         3\n",
       "20         3\n",
       "21         2\n",
       "22         2\n",
       "23         1\n",
       "24         1\n",
       "25         0\n",
       "26         0\n",
       "27         0\n",
       "28         0\n",
       "29         9\n",
       "30         5\n",
       "31         8\n",
       "32         2\n",
       "33        12\n",
       "34         3\n",
       "35         7\n",
       "36         1\n",
       "37        10\n",
       "38         2"
      ]
     },
     "execution_count": 139,
     "metadata": {},
     "output_type": "execute_result"
    }
   ],
   "source": [
    "test = df[[\"telefoon\"]]\n",
    "test"
   ]
  },
  {
   "cell_type": "code",
   "execution_count": 11,
   "id": "bf0bd5dd",
   "metadata": {},
   "outputs": [
    {
     "data": {
      "application/vnd.microsoft.datawrangler.viewer.v0+json": {
       "columns": [
        {
         "name": "index",
         "rawType": "int64",
         "type": "integer"
        },
        {
         "name": "mp3_speler",
         "rawType": "int64",
         "type": "integer"
        },
        {
         "name": "krant",
         "rawType": "int64",
         "type": "integer"
        },
        {
         "name": "bellen_of_email",
         "rawType": "int64",
         "type": "integer"
        },
        {
         "name": "smileys",
         "rawType": "int64",
         "type": "integer"
        },
        {
         "name": "telefoon",
         "rawType": "int64",
         "type": "integer"
        }
       ],
       "ref": "22c58215-f713-4c01-8a8a-c92093725059",
       "rows": [
        [
         "0",
         "0",
         "0",
         "1",
         "1",
         "12"
        ],
        [
         "1",
         "0",
         "0",
         "1",
         "1",
         "11"
        ],
        [
         "2",
         "0",
         "0",
         "1",
         "1",
         "12"
        ],
        [
         "3",
         "0",
         "0",
         "1",
         "1",
         "10"
        ],
        [
         "4",
         "0",
         "0",
         "1",
         "1",
         "11"
        ],
        [
         "5",
         "0",
         "0",
         "1",
         "1",
         "12"
        ],
        [
         "6",
         "0",
         "0",
         "1",
         "1",
         "10"
        ],
        [
         "7",
         "0",
         "0",
         "1",
         "1",
         "9"
        ],
        [
         "8",
         "0",
         "0",
         "1",
         "1",
         "8"
        ],
        [
         "9",
         "0",
         "1",
         "1",
         "1",
         "8"
        ],
        [
         "10",
         "0",
         "0",
         "1",
         "1",
         "7"
        ],
        [
         "11",
         "0",
         "0",
         "1",
         "0",
         "7"
        ],
        [
         "12",
         "0",
         "0",
         "1",
         "1",
         "6"
        ],
        [
         "13",
         "0",
         "0",
         "1",
         "0",
         "6"
        ],
        [
         "14",
         "1",
         "0",
         "1",
         "1",
         "6"
        ],
        [
         "15",
         "0",
         "0",
         "1",
         "1",
         "5"
        ],
        [
         "16",
         "1",
         "1",
         "0",
         "0",
         "5"
        ],
        [
         "17",
         "1",
         "1",
         "0",
         "0",
         "4"
        ],
        [
         "18",
         "1",
         "1",
         "0",
         "0",
         "4"
        ],
        [
         "19",
         "1",
         "1",
         "0",
         "0",
         "3"
        ],
        [
         "20",
         "1",
         "1",
         "0",
         "0",
         "3"
        ],
        [
         "21",
         "1",
         "1",
         "0",
         "0",
         "2"
        ],
        [
         "22",
         "1",
         "1",
         "0",
         "0",
         "2"
        ],
        [
         "23",
         "1",
         "1",
         "0",
         "0",
         "1"
        ],
        [
         "24",
         "1",
         "1",
         "0",
         "0",
         "1"
        ],
        [
         "25",
         "1",
         "1",
         "0",
         "0",
         "0"
        ],
        [
         "26",
         "1",
         "1",
         "0",
         "0",
         "0"
        ],
        [
         "27",
         "1",
         "1",
         "0",
         "0",
         "0"
        ],
        [
         "28",
         "1",
         "1",
         "0",
         "0",
         "0"
        ],
        [
         "29",
         "1",
         "0",
         "1",
         "0",
         "9"
        ],
        [
         "30",
         "0",
         "1",
         "0",
         "1",
         "5"
        ],
        [
         "31",
         "0",
         "1",
         "1",
         "0",
         "8"
        ],
        [
         "32",
         "1",
         "0",
         "0",
         "0",
         "2"
        ],
        [
         "33",
         "0",
         "0",
         "1",
         "1",
         "12"
        ],
        [
         "34",
         "0",
         "0",
         "0",
         "0",
         "3"
        ],
        [
         "35",
         "1",
         "0",
         "1",
         "1",
         "7"
        ],
        [
         "36",
         "0",
         "1",
         "0",
         "0",
         "1"
        ],
        [
         "37",
         "0",
         "0",
         "1",
         "1",
         "10"
        ],
        [
         "38",
         "1",
         "1",
         "0",
         "0",
         "2"
        ],
        [
         "39",
         "0",
         "0",
         "1",
         "1",
         "12"
        ],
        [
         "40",
         "0",
         "0",
         "1",
         "1",
         "11"
        ],
        [
         "41",
         "0",
         "0",
         "1",
         "1",
         "12"
        ],
        [
         "42",
         "0",
         "0",
         "1",
         "1",
         "10"
        ],
        [
         "43",
         "0",
         "0",
         "1",
         "1",
         "11"
        ],
        [
         "44",
         "0",
         "0",
         "1",
         "1",
         "12"
        ],
        [
         "45",
         "0",
         "0",
         "1",
         "1",
         "10"
        ],
        [
         "46",
         "0",
         "0",
         "1",
         "1",
         "9"
        ],
        [
         "47",
         "0",
         "0",
         "1",
         "1",
         "8"
        ],
        [
         "48",
         "0",
         "1",
         "1",
         "1",
         "8"
        ],
        [
         "49",
         "0",
         "0",
         "1",
         "1",
         "7"
        ]
       ],
       "shape": {
        "columns": 5,
        "rows": 78
       }
      },
      "text/html": [
       "<div>\n",
       "<style scoped>\n",
       "    .dataframe tbody tr th:only-of-type {\n",
       "        vertical-align: middle;\n",
       "    }\n",
       "\n",
       "    .dataframe tbody tr th {\n",
       "        vertical-align: top;\n",
       "    }\n",
       "\n",
       "    .dataframe thead th {\n",
       "        text-align: right;\n",
       "    }\n",
       "</style>\n",
       "<table border=\"1\" class=\"dataframe\">\n",
       "  <thead>\n",
       "    <tr style=\"text-align: right;\">\n",
       "      <th></th>\n",
       "      <th>mp3_speler</th>\n",
       "      <th>krant</th>\n",
       "      <th>bellen_of_email</th>\n",
       "      <th>smileys</th>\n",
       "      <th>telefoon</th>\n",
       "    </tr>\n",
       "  </thead>\n",
       "  <tbody>\n",
       "    <tr>\n",
       "      <th>0</th>\n",
       "      <td>0</td>\n",
       "      <td>0</td>\n",
       "      <td>1</td>\n",
       "      <td>1</td>\n",
       "      <td>12</td>\n",
       "    </tr>\n",
       "    <tr>\n",
       "      <th>1</th>\n",
       "      <td>0</td>\n",
       "      <td>0</td>\n",
       "      <td>1</td>\n",
       "      <td>1</td>\n",
       "      <td>11</td>\n",
       "    </tr>\n",
       "    <tr>\n",
       "      <th>2</th>\n",
       "      <td>0</td>\n",
       "      <td>0</td>\n",
       "      <td>1</td>\n",
       "      <td>1</td>\n",
       "      <td>12</td>\n",
       "    </tr>\n",
       "    <tr>\n",
       "      <th>3</th>\n",
       "      <td>0</td>\n",
       "      <td>0</td>\n",
       "      <td>1</td>\n",
       "      <td>1</td>\n",
       "      <td>10</td>\n",
       "    </tr>\n",
       "    <tr>\n",
       "      <th>4</th>\n",
       "      <td>0</td>\n",
       "      <td>0</td>\n",
       "      <td>1</td>\n",
       "      <td>1</td>\n",
       "      <td>11</td>\n",
       "    </tr>\n",
       "    <tr>\n",
       "      <th>...</th>\n",
       "      <td>...</td>\n",
       "      <td>...</td>\n",
       "      <td>...</td>\n",
       "      <td>...</td>\n",
       "      <td>...</td>\n",
       "    </tr>\n",
       "    <tr>\n",
       "      <th>73</th>\n",
       "      <td>0</td>\n",
       "      <td>0</td>\n",
       "      <td>0</td>\n",
       "      <td>0</td>\n",
       "      <td>3</td>\n",
       "    </tr>\n",
       "    <tr>\n",
       "      <th>74</th>\n",
       "      <td>1</td>\n",
       "      <td>0</td>\n",
       "      <td>1</td>\n",
       "      <td>1</td>\n",
       "      <td>7</td>\n",
       "    </tr>\n",
       "    <tr>\n",
       "      <th>75</th>\n",
       "      <td>0</td>\n",
       "      <td>1</td>\n",
       "      <td>0</td>\n",
       "      <td>0</td>\n",
       "      <td>1</td>\n",
       "    </tr>\n",
       "    <tr>\n",
       "      <th>76</th>\n",
       "      <td>0</td>\n",
       "      <td>0</td>\n",
       "      <td>1</td>\n",
       "      <td>1</td>\n",
       "      <td>10</td>\n",
       "    </tr>\n",
       "    <tr>\n",
       "      <th>77</th>\n",
       "      <td>1</td>\n",
       "      <td>1</td>\n",
       "      <td>0</td>\n",
       "      <td>0</td>\n",
       "      <td>2</td>\n",
       "    </tr>\n",
       "  </tbody>\n",
       "</table>\n",
       "<p>78 rows × 5 columns</p>\n",
       "</div>"
      ],
      "text/plain": [
       "    mp3_speler  krant  bellen_of_email  smileys  telefoon\n",
       "0            0      0                1        1        12\n",
       "1            0      0                1        1        11\n",
       "2            0      0                1        1        12\n",
       "3            0      0                1        1        10\n",
       "4            0      0                1        1        11\n",
       "..         ...    ...              ...      ...       ...\n",
       "73           0      0                0        0         3\n",
       "74           1      0                1        1         7\n",
       "75           0      1                0        0         1\n",
       "76           0      0                1        1        10\n",
       "77           1      1                0        0         2\n",
       "\n",
       "[78 rows x 5 columns]"
      ]
     },
     "execution_count": 11,
     "metadata": {},
     "output_type": "execute_result"
    }
   ],
   "source": [
    "X = pd.concat([features_categorical,features_ordinal] , axis=1)\n",
    "X"
   ]
  },
  {
   "cell_type": "code",
   "execution_count": 12,
   "id": "d6767992",
   "metadata": {},
   "outputs": [
    {
     "name": "stdout",
     "output_type": "stream",
     "text": [
      "(78, 4)\n",
      "(78,)\n"
     ]
    },
    {
     "data": {
      "text/plain": [
       "((62, 5), (16, 5), (62,), (16,))"
      ]
     },
     "execution_count": 12,
     "metadata": {},
     "output_type": "execute_result"
    }
   ],
   "source": [
    "print(df[[\"mp3_speler\", \"krant\", \"bellen_of_email\", \"smileys\"]].shape)\n",
    "print(df[\"werkelijke_leeftijd\"].shape)\n",
    "\n",
    "y = df[\"werkelijke_leeftijd\"]\n",
    "\n",
    "X_train, X_test, y_train, y_test = train_test_split(X, y, test_size=0.2, random_state=0)\n",
    "\n",
    "X_train.shape,X_test.shape,y_train.shape,y_test.shape"
   ]
  },
  {
   "cell_type": "code",
   "execution_count": 26,
   "id": "4ad703d3",
   "metadata": {},
   "outputs": [
    {
     "ename": "TypeError",
     "evalue": "All intermediate steps should be transformers and implement fit and transform or be the string 'passthrough' 'SVR(kernel='linear')' (type <class 'sklearn.svm._classes.SVR'>) doesn't",
     "output_type": "error",
     "traceback": [
      "\u001b[0;31m---------------------------------------------------------------------------\u001b[0m",
      "\u001b[0;31mTypeError\u001b[0m                                 Traceback (most recent call last)",
      "Cell \u001b[0;32mIn[26], line 24\u001b[0m\n\u001b[1;32m     11\u001b[0m \u001b[38;5;28;01mfrom\u001b[39;00m \u001b[38;5;21;01msklearn\u001b[39;00m\u001b[38;5;21;01m.\u001b[39;00m\u001b[38;5;21;01msvm\u001b[39;00m \u001b[38;5;28;01mimport\u001b[39;00m SVR\n\u001b[1;32m     13\u001b[0m pipeline \u001b[38;5;241m=\u001b[39m Pipeline([\n\u001b[1;32m     14\u001b[0m     (\u001b[38;5;124m\"\u001b[39m\u001b[38;5;124mscaler\u001b[39m\u001b[38;5;124m\"\u001b[39m, StandardScaler()),\n\u001b[1;32m     15\u001b[0m     \u001b[38;5;66;03m# (\"ordinal\", OrdinalEncoder(\u001b[39;00m\n\u001b[0;32m   (...)\u001b[0m\n\u001b[1;32m     21\u001b[0m \n\u001b[1;32m     22\u001b[0m ])\n\u001b[0;32m---> 24\u001b[0m pipeline\u001b[38;5;241m.\u001b[39mfit(X_train, y_train)\n",
      "File \u001b[0;32m~/anaconda3/lib/python3.12/site-packages/sklearn/base.py:1473\u001b[0m, in \u001b[0;36m_fit_context.<locals>.decorator.<locals>.wrapper\u001b[0;34m(estimator, *args, **kwargs)\u001b[0m\n\u001b[1;32m   1466\u001b[0m     estimator\u001b[38;5;241m.\u001b[39m_validate_params()\n\u001b[1;32m   1468\u001b[0m \u001b[38;5;28;01mwith\u001b[39;00m config_context(\n\u001b[1;32m   1469\u001b[0m     skip_parameter_validation\u001b[38;5;241m=\u001b[39m(\n\u001b[1;32m   1470\u001b[0m         prefer_skip_nested_validation \u001b[38;5;129;01mor\u001b[39;00m global_skip_validation\n\u001b[1;32m   1471\u001b[0m     )\n\u001b[1;32m   1472\u001b[0m ):\n\u001b[0;32m-> 1473\u001b[0m     \u001b[38;5;28;01mreturn\u001b[39;00m fit_method(estimator, \u001b[38;5;241m*\u001b[39margs, \u001b[38;5;241m*\u001b[39m\u001b[38;5;241m*\u001b[39mkwargs)\n",
      "File \u001b[0;32m~/anaconda3/lib/python3.12/site-packages/sklearn/pipeline.py:469\u001b[0m, in \u001b[0;36mPipeline.fit\u001b[0;34m(self, X, y, **params)\u001b[0m\n\u001b[1;32m    426\u001b[0m \u001b[38;5;250m\u001b[39m\u001b[38;5;124;03m\"\"\"Fit the model.\u001b[39;00m\n\u001b[1;32m    427\u001b[0m \n\u001b[1;32m    428\u001b[0m \u001b[38;5;124;03mFit all the transformers one after the other and sequentially transform the\u001b[39;00m\n\u001b[0;32m   (...)\u001b[0m\n\u001b[1;32m    466\u001b[0m \u001b[38;5;124;03m    Pipeline with fitted steps.\u001b[39;00m\n\u001b[1;32m    467\u001b[0m \u001b[38;5;124;03m\"\"\"\u001b[39;00m\n\u001b[1;32m    468\u001b[0m routed_params \u001b[38;5;241m=\u001b[39m \u001b[38;5;28mself\u001b[39m\u001b[38;5;241m.\u001b[39m_check_method_params(method\u001b[38;5;241m=\u001b[39m\u001b[38;5;124m\"\u001b[39m\u001b[38;5;124mfit\u001b[39m\u001b[38;5;124m\"\u001b[39m, props\u001b[38;5;241m=\u001b[39mparams)\n\u001b[0;32m--> 469\u001b[0m Xt \u001b[38;5;241m=\u001b[39m \u001b[38;5;28mself\u001b[39m\u001b[38;5;241m.\u001b[39m_fit(X, y, routed_params)\n\u001b[1;32m    470\u001b[0m \u001b[38;5;28;01mwith\u001b[39;00m _print_elapsed_time(\u001b[38;5;124m\"\u001b[39m\u001b[38;5;124mPipeline\u001b[39m\u001b[38;5;124m\"\u001b[39m, \u001b[38;5;28mself\u001b[39m\u001b[38;5;241m.\u001b[39m_log_message(\u001b[38;5;28mlen\u001b[39m(\u001b[38;5;28mself\u001b[39m\u001b[38;5;241m.\u001b[39msteps) \u001b[38;5;241m-\u001b[39m \u001b[38;5;241m1\u001b[39m)):\n\u001b[1;32m    471\u001b[0m     \u001b[38;5;28;01mif\u001b[39;00m \u001b[38;5;28mself\u001b[39m\u001b[38;5;241m.\u001b[39m_final_estimator \u001b[38;5;241m!=\u001b[39m \u001b[38;5;124m\"\u001b[39m\u001b[38;5;124mpassthrough\u001b[39m\u001b[38;5;124m\"\u001b[39m:\n",
      "File \u001b[0;32m~/anaconda3/lib/python3.12/site-packages/sklearn/pipeline.py:386\u001b[0m, in \u001b[0;36mPipeline._fit\u001b[0;34m(self, X, y, routed_params)\u001b[0m\n\u001b[1;32m    383\u001b[0m \u001b[38;5;28;01mdef\u001b[39;00m \u001b[38;5;21m_fit\u001b[39m(\u001b[38;5;28mself\u001b[39m, X, y\u001b[38;5;241m=\u001b[39m\u001b[38;5;28;01mNone\u001b[39;00m, routed_params\u001b[38;5;241m=\u001b[39m\u001b[38;5;28;01mNone\u001b[39;00m):\n\u001b[1;32m    384\u001b[0m     \u001b[38;5;66;03m# shallow copy of steps - this should really be steps_\u001b[39;00m\n\u001b[1;32m    385\u001b[0m     \u001b[38;5;28mself\u001b[39m\u001b[38;5;241m.\u001b[39msteps \u001b[38;5;241m=\u001b[39m \u001b[38;5;28mlist\u001b[39m(\u001b[38;5;28mself\u001b[39m\u001b[38;5;241m.\u001b[39msteps)\n\u001b[0;32m--> 386\u001b[0m     \u001b[38;5;28mself\u001b[39m\u001b[38;5;241m.\u001b[39m_validate_steps()\n\u001b[1;32m    387\u001b[0m     \u001b[38;5;66;03m# Setup the memory\u001b[39;00m\n\u001b[1;32m    388\u001b[0m     memory \u001b[38;5;241m=\u001b[39m check_memory(\u001b[38;5;28mself\u001b[39m\u001b[38;5;241m.\u001b[39mmemory)\n",
      "File \u001b[0;32m~/anaconda3/lib/python3.12/site-packages/sklearn/pipeline.py:256\u001b[0m, in \u001b[0;36mPipeline._validate_steps\u001b[0;34m(self)\u001b[0m\n\u001b[1;32m    252\u001b[0m         \u001b[38;5;28;01mcontinue\u001b[39;00m\n\u001b[1;32m    253\u001b[0m     \u001b[38;5;28;01mif\u001b[39;00m \u001b[38;5;129;01mnot\u001b[39;00m (\u001b[38;5;28mhasattr\u001b[39m(t, \u001b[38;5;124m\"\u001b[39m\u001b[38;5;124mfit\u001b[39m\u001b[38;5;124m\"\u001b[39m) \u001b[38;5;129;01mor\u001b[39;00m \u001b[38;5;28mhasattr\u001b[39m(t, \u001b[38;5;124m\"\u001b[39m\u001b[38;5;124mfit_transform\u001b[39m\u001b[38;5;124m\"\u001b[39m)) \u001b[38;5;129;01mor\u001b[39;00m \u001b[38;5;129;01mnot\u001b[39;00m \u001b[38;5;28mhasattr\u001b[39m(\n\u001b[1;32m    254\u001b[0m         t, \u001b[38;5;124m\"\u001b[39m\u001b[38;5;124mtransform\u001b[39m\u001b[38;5;124m\"\u001b[39m\n\u001b[1;32m    255\u001b[0m     ):\n\u001b[0;32m--> 256\u001b[0m         \u001b[38;5;28;01mraise\u001b[39;00m \u001b[38;5;167;01mTypeError\u001b[39;00m(\n\u001b[1;32m    257\u001b[0m             \u001b[38;5;124m\"\u001b[39m\u001b[38;5;124mAll intermediate steps should be \u001b[39m\u001b[38;5;124m\"\u001b[39m\n\u001b[1;32m    258\u001b[0m             \u001b[38;5;124m\"\u001b[39m\u001b[38;5;124mtransformers and implement fit and transform \u001b[39m\u001b[38;5;124m\"\u001b[39m\n\u001b[1;32m    259\u001b[0m             \u001b[38;5;124m\"\u001b[39m\u001b[38;5;124mor be the string \u001b[39m\u001b[38;5;124m'\u001b[39m\u001b[38;5;124mpassthrough\u001b[39m\u001b[38;5;124m'\u001b[39m\u001b[38;5;124m \u001b[39m\u001b[38;5;124m\"\u001b[39m\n\u001b[1;32m    260\u001b[0m             \u001b[38;5;124m\"\u001b[39m\u001b[38;5;124m'\u001b[39m\u001b[38;5;132;01m%s\u001b[39;00m\u001b[38;5;124m'\u001b[39m\u001b[38;5;124m (type \u001b[39m\u001b[38;5;132;01m%s\u001b[39;00m\u001b[38;5;124m) doesn\u001b[39m\u001b[38;5;124m'\u001b[39m\u001b[38;5;124mt\u001b[39m\u001b[38;5;124m\"\u001b[39m \u001b[38;5;241m%\u001b[39m (t, \u001b[38;5;28mtype\u001b[39m(t))\n\u001b[1;32m    261\u001b[0m         )\n\u001b[1;32m    263\u001b[0m \u001b[38;5;66;03m# We allow last estimator to be None as an identity transformation\u001b[39;00m\n\u001b[1;32m    264\u001b[0m \u001b[38;5;28;01mif\u001b[39;00m (\n\u001b[1;32m    265\u001b[0m     estimator \u001b[38;5;129;01mis\u001b[39;00m \u001b[38;5;129;01mnot\u001b[39;00m \u001b[38;5;28;01mNone\u001b[39;00m\n\u001b[1;32m    266\u001b[0m     \u001b[38;5;129;01mand\u001b[39;00m estimator \u001b[38;5;241m!=\u001b[39m \u001b[38;5;124m\"\u001b[39m\u001b[38;5;124mpassthrough\u001b[39m\u001b[38;5;124m\"\u001b[39m\n\u001b[1;32m    267\u001b[0m     \u001b[38;5;129;01mand\u001b[39;00m \u001b[38;5;129;01mnot\u001b[39;00m \u001b[38;5;28mhasattr\u001b[39m(estimator, \u001b[38;5;124m\"\u001b[39m\u001b[38;5;124mfit\u001b[39m\u001b[38;5;124m\"\u001b[39m)\n\u001b[1;32m    268\u001b[0m ):\n",
      "\u001b[0;31mTypeError\u001b[0m: All intermediate steps should be transformers and implement fit and transform or be the string 'passthrough' 'SVR(kernel='linear')' (type <class 'sklearn.svm._classes.SVR'>) doesn't"
     ]
    }
   ],
   "source": [
    "import numpy as np\n",
    "import matplotlib.pyplot as plt\n",
    "from sklearn.svm import SVR\n",
    "from sklearn.model_selection import train_test_split\n",
    "from sklearn.preprocessing import StandardScaler\n",
    "from sklearn.svm import SVR\n",
    "from sklearn.pipeline import make_pipeline\n",
    "from sklearn.metrics import mean_absolute_error, mean_squared_error, r2_score\n",
    "from mapie.regression import MapieRegressor\n",
    "from sklearn.model_selection import KFold\n",
    "from sklearn.svm import SVR\n",
    "\n",
    "pipeline = Pipeline([\n",
    "    (\"scaler\", StandardScaler()),\n",
    "    # (\"ordinal\", OrdinalEncoder(\n",
    "    # categories=[[0,1],[0,1],[0,1],[0,1],[1,2,3,4,5,6,7,8,9,10,11,12]],\n",
    "    # handle_unknown='use_encoded_value', \n",
    "    # unknown_value=-1)),\n",
    "     (\"SVR\", SVR(kernel='linear')),\n",
    "     (\"mapie\", MapieRegressor(estimator=SVR(kernel='linear'), method=\"plus\", cv=KFold(n_splits=10, shuffle=True)) )\n",
    "\n",
    "])\n",
    "\n",
    "pipeline.fit(X_train, y_train)\n",
    "\n",
    "# y_train_pred = pipeline.predict(X_train)\n",
    "\n",
    "# y_test_pred  = pipeline.predict(X_test)\n",
    "\n",
    "# svr = SVR(kernel=\"rbf\", C=10, epsilon=0.2, gamma=\"scale\")\n",
    "# mapie = MapieRegressor(estimator=svr, method=\"plus\", cv=KFold(n_splits=10, shuffle=True, random_state=42))\n",
    "# mapie.fit(X_train, y_train)\n",
    "\n",
    "# y_pred, y_interval = mapie.predict(X_test, alpha=0.1)  # 90% intervals\n",
    "# lower = y_interval[:, 0, 0]\n",
    "# upper = y_interval[:, 1, 0]\n"
   ]
  },
  {
   "cell_type": "code",
   "execution_count": 28,
   "id": "1a995af9",
   "metadata": {},
   "outputs": [
    {
     "name": "stdout",
     "output_type": "stream",
     "text": [
      "(78, 4)\n",
      "(78,)\n"
     ]
    }
   ],
   "source": [
    "    features_ordinal = df[\"telefoon\"]\n",
    "    features_categorical = df[[\"mp3_speler\", \"krant\", \"bellen_of_email\", \"smileys\"]]\n",
    "\n",
    "    to_predict = df[\"voorspelde_generatie\"]\n",
    "\n",
    "    X = pd.concat([features_categorical,features_ordinal] , axis=1)\n",
    "\n",
    "    print(df[[\"mp3_speler\", \"krant\", \"bellen_of_email\", \"smileys\"]].shape)\n",
    "    print(df[\"werkelijke_leeftijd\"].shape)\n",
    "\n",
    "    y = df[\"werkelijke_leeftijd\"]\n",
    "\n",
    "    X_train, X_test, y_train, y_test = train_test_split(X, y, test_size=0.2, random_state=0)\n",
    "\n",
    "    pipeline = Pipeline([\n",
    "        (\"scaler\", StandardScaler()),\n",
    "        # (\"ordinal\", OrdinalEncoder(\n",
    "        # categories=[[0,1],[0,1],[0,1],[0,1],[1,2,3,4,5,6,7,8,9,10,11,12]],\n",
    "        # handle_unknown='use_encoded_value', \n",
    "        # unknown_value=-1)),\n",
    "        (\"SVR\", SVR(kernel=\"linear\"))\n",
    "    ])\n",
    "\n",
    "    pipeline.fit(X_train, y_train)\n",
    "\n",
    "    y_train_pred = pipeline.predict(X_train)\n",
    "\n",
    "    y_test_pred  = pipeline.predict(X_test)\n"
   ]
  },
  {
   "cell_type": "code",
   "execution_count": 29,
   "id": "e6741237",
   "metadata": {},
   "outputs": [
    {
     "data": {
      "image/png": "[encoded data removed]",
      "text/plain": [
       "<Figure size 600x600 with 1 Axes>"
      ]
     },
     "metadata": {},
     "output_type": "display_data"
    }
   ],
   "source": [
    "\n",
    "plt.figure(figsize=(6, 6))\n",
    "plt.scatter(y_test, y_test_pred, edgecolor='k', alpha=0.7)\n",
    "plt.plot([y.min(), y.max()], [y.min(), y.max()], 'r--', lw=2, label='Ideal')\n",
    "plt.title('SVR – True vs. Predicted age')\n",
    "plt.xlabel('True age')\n",
    "plt.ylabel('Predicted age')\n",
    "plt.grid(True, ls='--', alpha=0.5)\n",
    "plt.legend()\n",
    "plt.tight_layout()\n",
    "plt.show()"
   ]
  },
  {
   "cell_type": "code",
   "execution_count": null,
   "id": "1e232068",
   "metadata": {},
   "outputs": [
    {
     "name": "stdout",
     "output_type": "stream",
     "text": [
      "Fitting 5 folds for each of 7560 candidates, totalling 37800 fits\n"
     ]
    },
    {
     "data": {
      "text/html": [
       "<style>#sk-container-id-1 {\n",
       "  /* Definition of color scheme common for light and dark mode */\n",
       "  --sklearn-color-text: black;\n",
       "  --sklearn-color-line: gray;\n",
       "  /* Definition of color scheme for unfitted estimators */\n",
       "  --sklearn-color-unfitted-level-0: #fff5e6;\n",
       "  --sklearn-color-unfitted-level-1: #f6e4d2;\n",
       "  --sklearn-color-unfitted-level-2: #ffe0b3;\n",
       "  --sklearn-color-unfitted-level-3: chocolate;\n",
       "  /* Definition of color scheme for fitted estimators */\n",
       "  --sklearn-color-fitted-level-0: #f0f8ff;\n",
       "  --sklearn-color-fitted-level-1: #d4ebff;\n",
       "  --sklearn-color-fitted-level-2: #b3dbfd;\n",
       "  --sklearn-color-fitted-level-3: cornflowerblue;\n",
       "\n",
       "  /* Specific color for light theme */\n",
       "  --sklearn-color-text-on-default-background: var(--sg-text-color, var(--theme-code-foreground, var(--jp-content-font-color1, black)));\n",
       "  --sklearn-color-background: var(--sg-background-color, var(--theme-background, var(--jp-layout-color0, white)));\n",
       "  --sklearn-color-border-box: var(--sg-text-color, var(--theme-code-foreground, var(--jp-content-font-color1, black)));\n",
       "  --sklearn-color-icon: #696969;\n",
       "\n",
       "  @media (prefers-color-scheme: dark) {\n",
       "    /* Redefinition of color scheme for dark theme */\n",
       "    --sklearn-color-text-on-default-background: var(--sg-text-color, var(--theme-code-foreground, var(--jp-content-font-color1, white)));\n",
       "    --sklearn-color-background: var(--sg-background-color, var(--theme-background, var(--jp-layout-color0, #111)));\n",
       "    --sklearn-color-border-box: var(--sg-text-color, var(--theme-code-foreground, var(--jp-content-font-color1, white)));\n",
       "    --sklearn-color-icon: #878787;\n",
       "  }\n",
       "}\n",
       "\n",
       "#sk-container-id-1 {\n",
       "  color: var(--sklearn-color-text);\n",
       "}\n",
       "\n",
       "#sk-container-id-1 pre {\n",
       "  padding: 0;\n",
       "}\n",
       "\n",
       "#sk-container-id-1 input.sk-hidden--visually {\n",
       "  border: 0;\n",
       "  clip: rect(1px 1px 1px 1px);\n",
       "  clip: rect(1px, 1px, 1px, 1px);\n",
       "  height: 1px;\n",
       "  margin: -1px;\n",
       "  overflow: hidden;\n",
       "  padding: 0;\n",
       "  position: absolute;\n",
       "  width: 1px;\n",
       "}\n",
       "\n",
       "#sk-container-id-1 div.sk-dashed-wrapped {\n",
       "  border: 1px dashed var(--sklearn-color-line);\n",
       "  margin: 0 0.4em 0.5em 0.4em;\n",
       "  box-sizing: border-box;\n",
       "  padding-bottom: 0.4em;\n",
       "  background-color: var(--sklearn-color-background);\n",
       "}\n",
       "\n",
       "#sk-container-id-1 div.sk-container {\n",
       "  /* jupyter's `normalize.less` sets `[hidden] { display: none; }`\n",
       "     but bootstrap.min.css set `[hidden] { display: none !important; }`\n",
       "     so we also need the `!important` here to be able to override the\n",
       "     default hidden behavior on the sphinx rendered scikit-learn.org.\n",
       "     See: https://github.com/scikit-learn/scikit-learn/issues/21755 */\n",
       "  display: inline-block !important;\n",
       "  position: relative;\n",
       "}\n",
       "\n",
       "#sk-container-id-1 div.sk-text-repr-fallback {\n",
       "  display: none;\n",
       "}\n",
       "\n",
       "div.sk-parallel-item,\n",
       "div.sk-serial,\n",
       "div.sk-item {\n",
       "  /* draw centered vertical line to link estimators */\n",
       "  background-image: linear-gradient(var(--sklearn-color-text-on-default-background), var(--sklearn-color-text-on-default-background));\n",
       "  background-size: 2px 100%;\n",
       "  background-repeat: no-repeat;\n",
       "  background-position: center center;\n",
       "}\n",
       "\n",
       "/* Parallel-specific style estimator block */\n",
       "\n",
       "#sk-container-id-1 div.sk-parallel-item::after {\n",
       "  content: \"\";\n",
       "  width: 100%;\n",
       "  border-bottom: 2px solid var(--sklearn-color-text-on-default-background);\n",
       "  flex-grow: 1;\n",
       "}\n",
       "\n",
       "#sk-container-id-1 div.sk-parallel {\n",
       "  display: flex;\n",
       "  align-items: stretch;\n",
       "  justify-content: center;\n",
       "  background-color: var(--sklearn-color-background);\n",
       "  position: relative;\n",
       "}\n",
       "\n",
       "#sk-container-id-1 div.sk-parallel-item {\n",
       "  display: flex;\n",
       "  flex-direction: column;\n",
       "}\n",
       "\n",
       "#sk-container-id-1 div.sk-parallel-item:first-child::after {\n",
       "  align-self: flex-end;\n",
       "  width: 50%;\n",
       "}\n",
       "\n",
       "#sk-container-id-1 div.sk-parallel-item:last-child::after {\n",
       "  align-self: flex-start;\n",
       "  width: 50%;\n",
       "}\n",
       "\n",
       "#sk-container-id-1 div.sk-parallel-item:only-child::after {\n",
       "  width: 0;\n",
       "}\n",
       "\n",
       "/* Serial-specific style estimator block */\n",
       "\n",
       "#sk-container-id-1 div.sk-serial {\n",
       "  display: flex;\n",
       "  flex-direction: column;\n",
       "  align-items: center;\n",
       "  background-color: var(--sklearn-color-background);\n",
       "  padding-right: 1em;\n",
       "  padding-left: 1em;\n",
       "}\n",
       "\n",
       "\n",
       "/* Toggleable style: style used for estimator/Pipeline/ColumnTransformer box that is\n",
       "clickable and can be expanded/collapsed.\n",
       "- Pipeline and ColumnTransformer use this feature and define the default style\n",
       "- Estimators will overwrite some part of the style using the `sk-estimator` class\n",
       "*/\n",
       "\n",
       "/* Pipeline and ColumnTransformer style (default) */\n",
       "\n",
       "#sk-container-id-1 div.sk-toggleable {\n",
       "  /* Default theme specific background. It is overwritten whether we have a\n",
       "  specific estimator or a Pipeline/ColumnTransformer */\n",
       "  background-color: var(--sklearn-color-background);\n",
       "}\n",
       "\n",
       "/* Toggleable label */\n",
       "#sk-container-id-1 label.sk-toggleable__label {\n",
       "  cursor: pointer;\n",
       "  display: block;\n",
       "  width: 100%;\n",
       "  margin-bottom: 0;\n",
       "  padding: 0.5em;\n",
       "  box-sizing: border-box;\n",
       "  text-align: center;\n",
       "}\n",
       "\n",
       "#sk-container-id-1 label.sk-toggleable__label-arrow:before {\n",
       "  /* Arrow on the left of the label */\n",
       "  content: \"▸\";\n",
       "  float: left;\n",
       "  margin-right: 0.25em;\n",
       "  color: var(--sklearn-color-icon);\n",
       "}\n",
       "\n",
       "#sk-container-id-1 label.sk-toggleable__label-arrow:hover:before {\n",
       "  color: var(--sklearn-color-text);\n",
       "}\n",
       "\n",
       "/* Toggleable content - dropdown */\n",
       "\n",
       "#sk-container-id-1 div.sk-toggleable__content {\n",
       "  max-height: 0;\n",
       "  max-width: 0;\n",
       "  overflow: hidden;\n",
       "  text-align: left;\n",
       "  /* unfitted */\n",
       "  background-color: var(--sklearn-color-unfitted-level-0);\n",
       "}\n",
       "\n",
       "#sk-container-id-1 div.sk-toggleable__content.fitted {\n",
       "  /* fitted */\n",
       "  background-color: var(--sklearn-color-fitted-level-0);\n",
       "}\n",
       "\n",
       "#sk-container-id-1 div.sk-toggleable__content pre {\n",
       "  margin: 0.2em;\n",
       "  border-radius: 0.25em;\n",
       "  color: var(--sklearn-color-text);\n",
       "  /* unfitted */\n",
       "  background-color: var(--sklearn-color-unfitted-level-0);\n",
       "}\n",
       "\n",
       "#sk-container-id-1 div.sk-toggleable__content.fitted pre {\n",
       "  /* unfitted */\n",
       "  background-color: var(--sklearn-color-fitted-level-0);\n",
       "}\n",
       "\n",
       "#sk-container-id-1 input.sk-toggleable__control:checked~div.sk-toggleable__content {\n",
       "  /* Expand drop-down */\n",
       "  max-height: 200px;\n",
       "  max-width: 100%;\n",
       "  overflow: auto;\n",
       "}\n",
       "\n",
       "#sk-container-id-1 input.sk-toggleable__control:checked~label.sk-toggleable__label-arrow:before {\n",
       "  content: \"▾\";\n",
       "}\n",
       "\n",
       "/* Pipeline/ColumnTransformer-specific style */\n",
       "\n",
       "#sk-container-id-1 div.sk-label input.sk-toggleable__control:checked~label.sk-toggleable__label {\n",
       "  color: var(--sklearn-color-text);\n",
       "  background-color: var(--sklearn-color-unfitted-level-2);\n",
       "}\n",
       "\n",
       "#sk-container-id-1 div.sk-label.fitted input.sk-toggleable__control:checked~label.sk-toggleable__label {\n",
       "  background-color: var(--sklearn-color-fitted-level-2);\n",
       "}\n",
       "\n",
       "/* Estimator-specific style */\n",
       "\n",
       "/* Colorize estimator box */\n",
       "#sk-container-id-1 div.sk-estimator input.sk-toggleable__control:checked~label.sk-toggleable__label {\n",
       "  /* unfitted */\n",
       "  background-color: var(--sklearn-color-unfitted-level-2);\n",
       "}\n",
       "\n",
       "#sk-container-id-1 div.sk-estimator.fitted input.sk-toggleable__control:checked~label.sk-toggleable__label {\n",
       "  /* fitted */\n",
       "  background-color: var(--sklearn-color-fitted-level-2);\n",
       "}\n",
       "\n",
       "#sk-container-id-1 div.sk-label label.sk-toggleable__label,\n",
       "#sk-container-id-1 div.sk-label label {\n",
       "  /* The background is the default theme color */\n",
       "  color: var(--sklearn-color-text-on-default-background);\n",
       "}\n",
       "\n",
       "/* On hover, darken the color of the background */\n",
       "#sk-container-id-1 div.sk-label:hover label.sk-toggleable__label {\n",
       "  color: var(--sklearn-color-text);\n",
       "  background-color: var(--sklearn-color-unfitted-level-2);\n",
       "}\n",
       "\n",
       "/* Label box, darken color on hover, fitted */\n",
       "#sk-container-id-1 div.sk-label.fitted:hover label.sk-toggleable__label.fitted {\n",
       "  color: var(--sklearn-color-text);\n",
       "  background-color: var(--sklearn-color-fitted-level-2);\n",
       "}\n",
       "\n",
       "/* Estimator label */\n",
       "\n",
       "#sk-container-id-1 div.sk-label label {\n",
       "  font-family: monospace;\n",
       "  font-weight: bold;\n",
       "  display: inline-block;\n",
       "  line-height: 1.2em;\n",
       "}\n",
       "\n",
       "#sk-container-id-1 div.sk-label-container {\n",
       "  text-align: center;\n",
       "}\n",
       "\n",
       "/* Estimator-specific */\n",
       "#sk-container-id-1 div.sk-estimator {\n",
       "  font-family: monospace;\n",
       "  border: 1px dotted var(--sklearn-color-border-box);\n",
       "  border-radius: 0.25em;\n",
       "  box-sizing: border-box;\n",
       "  margin-bottom: 0.5em;\n",
       "  /* unfitted */\n",
       "  background-color: var(--sklearn-color-unfitted-level-0);\n",
       "}\n",
       "\n",
       "#sk-container-id-1 div.sk-estimator.fitted {\n",
       "  /* fitted */\n",
       "  background-color: var(--sklearn-color-fitted-level-0);\n",
       "}\n",
       "\n",
       "/* on hover */\n",
       "#sk-container-id-1 div.sk-estimator:hover {\n",
       "  /* unfitted */\n",
       "  background-color: var(--sklearn-color-unfitted-level-2);\n",
       "}\n",
       "\n",
       "#sk-container-id-1 div.sk-estimator.fitted:hover {\n",
       "  /* fitted */\n",
       "  background-color: var(--sklearn-color-fitted-level-2);\n",
       "}\n",
       "\n",
       "/* Specification for estimator info (e.g. \"i\" and \"?\") */\n",
       "\n",
       "/* Common style for \"i\" and \"?\" */\n",
       "\n",
       ".sk-estimator-doc-link,\n",
       "a:link.sk-estimator-doc-link,\n",
       "a:visited.sk-estimator-doc-link {\n",
       "  float: right;\n",
       "  font-size: smaller;\n",
       "  line-height: 1em;\n",
       "  font-family: monospace;\n",
       "  background-color: var(--sklearn-color-background);\n",
       "  border-radius: 1em;\n",
       "  height: 1em;\n",
       "  width: 1em;\n",
       "  text-decoration: none !important;\n",
       "  margin-left: 1ex;\n",
       "  /* unfitted */\n",
       "  border: var(--sklearn-color-unfitted-level-1) 1pt solid;\n",
       "  color: var(--sklearn-color-unfitted-level-1);\n",
       "}\n",
       "\n",
       ".sk-estimator-doc-link.fitted,\n",
       "a:link.sk-estimator-doc-link.fitted,\n",
       "a:visited.sk-estimator-doc-link.fitted {\n",
       "  /* fitted */\n",
       "  border: var(--sklearn-color-fitted-level-1) 1pt solid;\n",
       "  color: var(--sklearn-color-fitted-level-1);\n",
       "}\n",
       "\n",
       "/* On hover */\n",
       "div.sk-estimator:hover .sk-estimator-doc-link:hover,\n",
       ".sk-estimator-doc-link:hover,\n",
       "div.sk-label-container:hover .sk-estimator-doc-link:hover,\n",
       ".sk-estimator-doc-link:hover {\n",
       "  /* unfitted */\n",
       "  background-color: var(--sklearn-color-unfitted-level-3);\n",
       "  color: var(--sklearn-color-background);\n",
       "  text-decoration: none;\n",
       "}\n",
       "\n",
       "div.sk-estimator.fitted:hover .sk-estimator-doc-link.fitted:hover,\n",
       ".sk-estimator-doc-link.fitted:hover,\n",
       "div.sk-label-container:hover .sk-estimator-doc-link.fitted:hover,\n",
       ".sk-estimator-doc-link.fitted:hover {\n",
       "  /* fitted */\n",
       "  background-color: var(--sklearn-color-fitted-level-3);\n",
       "  color: var(--sklearn-color-background);\n",
       "  text-decoration: none;\n",
       "}\n",
       "\n",
       "/* Span, style for the box shown on hovering the info icon */\n",
       ".sk-estimator-doc-link span {\n",
       "  display: none;\n",
       "  z-index: 9999;\n",
       "  position: relative;\n",
       "  font-weight: normal;\n",
       "  right: .2ex;\n",
       "  padding: .5ex;\n",
       "  margin: .5ex;\n",
       "  width: min-content;\n",
       "  min-width: 20ex;\n",
       "  max-width: 50ex;\n",
       "  color: var(--sklearn-color-text);\n",
       "  box-shadow: 2pt 2pt 4pt #999;\n",
       "  /* unfitted */\n",
       "  background: var(--sklearn-color-unfitted-level-0);\n",
       "  border: .5pt solid var(--sklearn-color-unfitted-level-3);\n",
       "}\n",
       "\n",
       ".sk-estimator-doc-link.fitted span {\n",
       "  /* fitted */\n",
       "  background: var(--sklearn-color-fitted-level-0);\n",
       "  border: var(--sklearn-color-fitted-level-3);\n",
       "}\n",
       "\n",
       ".sk-estimator-doc-link:hover span {\n",
       "  display: block;\n",
       "}\n",
       "\n",
       "/* \"?\"-specific style due to the `<a>` HTML tag */\n",
       "\n",
       "#sk-container-id-1 a.estimator_doc_link {\n",
       "  float: right;\n",
       "  font-size: 1rem;\n",
       "  line-height: 1em;\n",
       "  font-family: monospace;\n",
       "  background-color: var(--sklearn-color-background);\n",
       "  border-radius: 1rem;\n",
       "  height: 1rem;\n",
       "  width: 1rem;\n",
       "  text-decoration: none;\n",
       "  /* unfitted */\n",
       "  color: var(--sklearn-color-unfitted-level-1);\n",
       "  border: var(--sklearn-color-unfitted-level-1) 1pt solid;\n",
       "}\n",
       "\n",
       "#sk-container-id-1 a.estimator_doc_link.fitted {\n",
       "  /* fitted */\n",
       "  border: var(--sklearn-color-fitted-level-1) 1pt solid;\n",
       "  color: var(--sklearn-color-fitted-level-1);\n",
       "}\n",
       "\n",
       "/* On hover */\n",
       "#sk-container-id-1 a.estimator_doc_link:hover {\n",
       "  /* unfitted */\n",
       "  background-color: var(--sklearn-color-unfitted-level-3);\n",
       "  color: var(--sklearn-color-background);\n",
       "  text-decoration: none;\n",
       "}\n",
       "\n",
       "#sk-container-id-1 a.estimator_doc_link.fitted:hover {\n",
       "  /* fitted */\n",
       "  background-color: var(--sklearn-color-fitted-level-3);\n",
       "}\n",
       "</style><div id=\"sk-container-id-1\" class=\"sk-top-container\"><div class=\"sk-text-repr-fallback\"><pre>GridSearchCV(cv=5, estimator=SVR(), n_jobs=-1,\n",
       "             param_grid={&#x27;C&#x27;: [0.1, 0.5, 1.0, 5.0, 10.0, 50.0, 100.0],\n",
       "                         &#x27;cache_size&#x27;: [1000], &#x27;degree&#x27;: [2, 3, 4],\n",
       "                         &#x27;epsilon&#x27;: [0.001, 0.01, 0.05, 0.1, 0.2, 0.5],\n",
       "                         &#x27;gamma&#x27;: [&#x27;scale&#x27;, &#x27;auto&#x27;, 0.001, 0.01, 0.1],\n",
       "                         &#x27;kernel&#x27;: [&#x27;linear&#x27;, &#x27;rbf&#x27;, &#x27;poly&#x27;, &#x27;sigmoid&#x27;],\n",
       "                         &#x27;tol&#x27;: [0.1, 0.001, 1e-05]},\n",
       "             scoring=&#x27;neg_mean_squared_error&#x27;, verbose=1)</pre><b>In a Jupyter environment, please rerun this cell to show the HTML representation or trust the notebook. <br />On GitHub, the HTML representation is unable to render, please try loading this page with nbviewer.org.</b></div><div class=\"sk-container\" hidden><div class=\"sk-item sk-dashed-wrapped\"><div class=\"sk-label-container\"><div class=\"sk-label fitted sk-toggleable\"><input class=\"sk-toggleable__control sk-hidden--visually\" id=\"sk-estimator-id-1\" type=\"checkbox\" ><label for=\"sk-estimator-id-1\" class=\"sk-toggleable__label fitted sk-toggleable__label-arrow fitted\">&nbsp;&nbsp;GridSearchCV<a class=\"sk-estimator-doc-link fitted\" rel=\"noreferrer\" target=\"_blank\" href=\"https://scikit-learn.org/1.5/modules/generated/sklearn.model_selection.GridSearchCV.html\">?<span>Documentation for GridSearchCV</span></a><span class=\"sk-estimator-doc-link fitted\">i<span>Fitted</span></span></label><div class=\"sk-toggleable__content fitted\"><pre>GridSearchCV(cv=5, estimator=SVR(), n_jobs=-1,\n",
       "             param_grid={&#x27;C&#x27;: [0.1, 0.5, 1.0, 5.0, 10.0, 50.0, 100.0],\n",
       "                         &#x27;cache_size&#x27;: [1000], &#x27;degree&#x27;: [2, 3, 4],\n",
       "                         &#x27;epsilon&#x27;: [0.001, 0.01, 0.05, 0.1, 0.2, 0.5],\n",
       "                         &#x27;gamma&#x27;: [&#x27;scale&#x27;, &#x27;auto&#x27;, 0.001, 0.01, 0.1],\n",
       "                         &#x27;kernel&#x27;: [&#x27;linear&#x27;, &#x27;rbf&#x27;, &#x27;poly&#x27;, &#x27;sigmoid&#x27;],\n",
       "                         &#x27;tol&#x27;: [0.1, 0.001, 1e-05]},\n",
       "             scoring=&#x27;neg_mean_squared_error&#x27;, verbose=1)</pre></div> </div></div><div class=\"sk-parallel\"><div class=\"sk-parallel-item\"><div class=\"sk-item\"><div class=\"sk-label-container\"><div class=\"sk-label fitted sk-toggleable\"><input class=\"sk-toggleable__control sk-hidden--visually\" id=\"sk-estimator-id-2\" type=\"checkbox\" ><label for=\"sk-estimator-id-2\" class=\"sk-toggleable__label fitted sk-toggleable__label-arrow fitted\">best_estimator_: SVR</label><div class=\"sk-toggleable__content fitted\"><pre>SVR(C=100.0, cache_size=1000, degree=2, epsilon=0.2, gamma=&#x27;auto&#x27;, tol=0.1)</pre></div> </div></div><div class=\"sk-serial\"><div class=\"sk-item\"><div class=\"sk-estimator fitted sk-toggleable\"><input class=\"sk-toggleable__control sk-hidden--visually\" id=\"sk-estimator-id-3\" type=\"checkbox\" ><label for=\"sk-estimator-id-3\" class=\"sk-toggleable__label fitted sk-toggleable__label-arrow fitted\">&nbsp;SVR<a class=\"sk-estimator-doc-link fitted\" rel=\"noreferrer\" target=\"_blank\" href=\"https://scikit-learn.org/1.5/modules/generated/sklearn.svm.SVR.html\">?<span>Documentation for SVR</span></a></label><div class=\"sk-toggleable__content fitted\"><pre>SVR(C=100.0, cache_size=1000, degree=2, epsilon=0.2, gamma=&#x27;auto&#x27;, tol=0.1)</pre></div> </div></div></div></div></div></div></div></div></div>"
      ],
      "text/plain": [
       "GridSearchCV(cv=5, estimator=SVR(), n_jobs=-1,\n",
       "             param_grid={'C': [0.1, 0.5, 1.0, 5.0, 10.0, 50.0, 100.0],\n",
       "                         'cache_size': [1000], 'degree': [2, 3, 4],\n",
       "                         'epsilon': [0.001, 0.01, 0.05, 0.1, 0.2, 0.5],\n",
       "                         'gamma': ['scale', 'auto', 0.001, 0.01, 0.1],\n",
       "                         'kernel': ['linear', 'rbf', 'poly', 'sigmoid'],\n",
       "                         'tol': [0.1, 0.001, 1e-05]},\n",
       "             scoring='neg_mean_squared_error', verbose=1)"
      ]
     },
     "execution_count": 37,
     "metadata": {},
     "output_type": "execute_result"
    }
   ],
   "source": [
    "from sklearn.svm import SVR\n",
    "from sklearn.model_selection import GridSearchCV\n",
    "\n",
    "svr_param_grid = {\n",
    "    'C': [0.1, 0.5, 1.0, 5.0, 10.0, 50.0, 100.0],\n",
    "    'kernel': ['linear', 'rbf', 'poly', 'sigmoid'],\n",
    "    'epsilon': [0.001, 0.01, 0.05, 0.1, 0.2, 0.5],\n",
    "    'gamma': ['scale', 'auto', 0.001, 0.01, 0.1],  # for non-linear kernels\n",
    "    'degree': [2, 3, 4],  # only for poly kernel\n",
    "    'tol': [1e-1, 1e-3, 1e-5],\n",
    "    'cache_size': [1000]\n",
    "}\n",
    "\n",
    "svr_grid = GridSearchCV(\n",
    "    SVR(),\n",
    "    svr_param_grid,\n",
    "    cv=5,\n",
    "    scoring='neg_mean_squared_error',  # or 'r2', 'neg_mean_absolute_error'\n",
    "    n_jobs=-1,\n",
    "    verbose=1\n",
    ")\n",
    "\n",
    "# SVR(C=100.0, cache_size=1000, degree=2, epsilon=0.2, gamma='auto', tol=0.1)\n",
    "svr_grid.fit(X, y)"
   ]
  },
  {
   "cell_type": "code",
   "execution_count": null,
   "id": "6e8b54aa",
   "metadata": {},
   "outputs": [],
   "source": [
    "# # Test:\n",
    "\n",
    "\n",
    "# validation_df = pd.read_csv(\"/home/floris/Documenten/ML/Competitie_Nieuw/competition-train-noclass(1).csv\")\n",
    "\n",
    "\n",
    "# X_not_imputed = mhs_df[self.all_features]\n",
    "\n",
    "# X_ordinal = X_not_imputed[self.features_ordinal]\n",
    "# X_continuous = X_not_imputed[self.features_continuous]\n",
    "\n",
    "\n",
    "# # Imputeren van NA's:\n",
    "# X_ordinal_imputed = self.ordinal_imputer.transform(X_ordinal)\n",
    "# X_continuous_imputed = self.continuous_imputer.fit_transform(X_continuous)\n",
    "\n",
    "# # Onehot encode de catagrorische ordinale features:\n",
    "# X_ordinal_encoded = self.onehot_encoder.transform(X_ordinal_imputed)\n",
    "\n",
    "# # Niet alle continue waarden hebben de zelfde eenheid, schaal ze:\n",
    "# X_continuous_scaled = self.continuous_scaler.fit_transform(X_continuous_imputed)\n",
    "\n",
    "# # Combineer features:\n",
    "# X = np.concatenate((X_ordinal_encoded, X_continuous_scaled), axis=1)\n",
    "\n",
    "# # Voorspel en zet om in boolean array:\n",
    "# prediction = self.model.predict(X)\n",
    "\n",
    "# (X_test_imputed, y_test)"
   ]
  },
  {
   "cell_type": "code",
   "execution_count": 8,
   "id": "38dde4ff",
   "metadata": {},
   "outputs": [],
   "source": [
    "\n",
    "# Test:\n",
    "\n",
    "from sklearn.pipeline import Pipeline\n",
    "from sklearn.compose import ColumnTransformer\n",
    "from sklearn.model_selection import train_test_split\n",
    "from sklearn.compose import ColumnTransformer\n",
    "from sklearn.pipeline import Pipeline\n",
    "from sklearn.impute import SimpleImputer\n",
    "from sklearn.preprocessing import StandardScaler, OneHotEncoder, OrdinalEncoder\n",
    "from sklearn.experimental import enable_iterative_imputer\n"
   ]
  },
  {
   "cell_type": "code",
   "execution_count": null,
   "id": "46c9516b",
   "metadata": {},
   "outputs": [],
   "source": []
  },
  {
   "cell_type": "code",
   "execution_count": null,
   "id": "3562b6ed",
   "metadata": {},
   "outputs": [],
   "source": [
    "# from sklearn.preprocessing import OrdinalEncoder\n",
    "# from sklearn.impute import SimpleImputer\n",
    "# from sklearn.impute import KNNImputer\n",
    "# # Imputeer NA's:\n",
    "\n",
    "#feature_imputer = SimpleImputer(missing_values=np.nan, strategy='mean')\n",
    "# feature_imputer = IterativeImputer(random_state=0)\n",
    "# feature_imputer.fit(X_train_not_imputed)\n",
    "\n",
    "# X_train_imputed = feature_imputer.transform(X_train_not_imputed)\n",
    "\n",
    "# X_test_imputed = feature_imputer.transform(X_test_not_imputed)\n",
    "\n",
    "# target_imputer = KNNImputer(n_neighbors=2, weights=\"uniform\")\n",
    "# #target_imputer = SimpleImputer(missing_values=np.nan, strategy='mean')\n",
    "\n",
    "# y_train = target_imputer.fit_transform(y_train_not_imputed.values.reshape(-1, 1)).ravel()\n",
    "# y_test = target_imputer.transform(y_test_not_imputed.values.reshape(-1, 1)).ravel()\n",
    "\n"
   ]
  },
  {
   "cell_type": "code",
   "execution_count": null,
   "id": "c5b2b3e7",
   "metadata": {},
   "outputs": [],
   "source": []
  },
  {
   "cell_type": "markdown",
   "id": "c9ffea0d",
   "metadata": {},
   "source": [
    "Hoe dragen de features bij?"
   ]
  },
  {
   "cell_type": "code",
   "execution_count": 32,
   "id": "d83c4c65",
   "metadata": {},
   "outputs": [
    {
     "ename": "NameError",
     "evalue": "name 'X' is not defined",
     "output_type": "error",
     "traceback": [
      "\u001b[0;31m---------------------------------------------------------------------------\u001b[0m",
      "\u001b[0;31mNameError\u001b[0m                                 Traceback (most recent call last)",
      "Cell \u001b[0;32mIn[32], line 2\u001b[0m\n\u001b[1;32m      1\u001b[0m \u001b[38;5;28;01mfrom\u001b[39;00m \u001b[38;5;21;01msklearn\u001b[39;00m\u001b[38;5;21;01m.\u001b[39;00m\u001b[38;5;21;01mfeature_selection\u001b[39;00m \u001b[38;5;28;01mimport\u001b[39;00m SelectKBest\n\u001b[0;32m----> 2\u001b[0m selector \u001b[38;5;241m=\u001b[39m SelectKBest(k\u001b[38;5;241m=\u001b[39m\u001b[38;5;241m7\u001b[39m)\u001b[38;5;241m.\u001b[39mfit(X, y)\n\u001b[1;32m      4\u001b[0m pd\u001b[38;5;241m.\u001b[39mDataFrame({\u001b[38;5;124m\"\u001b[39m\u001b[38;5;124mAttribute\u001b[39m\u001b[38;5;124m\"\u001b[39m: all_features, \u001b[38;5;124m\"\u001b[39m\u001b[38;5;124mScore\u001b[39m\u001b[38;5;124m\"\u001b[39m: selector\u001b[38;5;241m.\u001b[39mscores_})\u001b[38;5;241m.\u001b[39msort_values(\u001b[38;5;124m\"\u001b[39m\u001b[38;5;124mScore\u001b[39m\u001b[38;5;124m\"\u001b[39m, ascending\u001b[38;5;241m=\u001b[39m\u001b[38;5;28;01mFalse\u001b[39;00m)\u001b[38;5;241m.\u001b[39mset_index(\u001b[38;5;124m\"\u001b[39m\u001b[38;5;124mAttribute\u001b[39m\u001b[38;5;124m\"\u001b[39m)\n",
      "\u001b[0;31mNameError\u001b[0m: name 'X' is not defined"
     ]
    }
   ],
   "source": [
    "from sklearn.feature_selection import SelectKBest\n",
    "selector = SelectKBest(k=7).fit(X, y)\n",
    "\n",
    "pd.DataFrame({\"Attribute\": all_features, \"Score\": selector.scores_}).sort_values(\"Score\", ascending=False).set_index(\"Attribute\")"
   ]
  },
  {
   "cell_type": "code",
   "execution_count": null,
   "id": "f615a4ba",
   "metadata": {},
   "outputs": [],
   "source": []
  },
  {
   "cell_type": "code",
   "execution_count": null,
   "id": "e55c9558",
   "metadata": {},
   "outputs": [],
   "source": [
    "# from sklearn.preprocessing import OneHotEncoder\n",
    "\n",
    "\n",
    "# encoder = OrdinalEncoder()\n",
    "# encoder.fit(X_train_imputed)\n",
    "\n",
    "# X_train_onehot = encoder.transform(X_train_imputed)\n",
    "\n",
    "# X_test_onehot = encoder.transform(X_test_imputed)"
   ]
  },
  {
   "cell_type": "code",
   "execution_count": null,
   "id": "e3c0e875",
   "metadata": {},
   "outputs": [],
   "source": [
    "# print(f\"Verdeling voor SMOTE: \\n {pd.Series(y_train).value_counts()} \\n\")\n",
    "\n",
    "# # De \"Auto\" sampling strategy werkte niet. \n",
    "# smote = SMOTE(sampling_strategy={\n",
    "#     1.0: 800,   \n",
    "#     2.0: 1200,   \n",
    "#     3.0: 2500,\n",
    "#     5.0: 5000  \n",
    "# }, k_neighbors=5)\n",
    "\n",
    "# X_train_smote, y_train_smote = smote.fit_resample(X_train_onehot, y_train)\n",
    "\n",
    "# print(f\"Verdeling na SMOTE: \\n {pd.Series(y_train_smote).value_counts()}\")"
   ]
  },
  {
   "cell_type": "code",
   "execution_count": 10,
   "id": "b2c2a270",
   "metadata": {},
   "outputs": [
    {
     "name": "stderr",
     "output_type": "stream",
     "text": [
      "/home/floris/Documenten/ML/Competitie_Nieuw/.venv/lib/python3.13/site-packages/sklearn/neural_network/_multilayer_perceptron.py:691: ConvergenceWarning: Stochastic Optimizer: Maximum iterations (200) reached and the optimization hasn't converged yet.\n",
      "  warnings.warn(\n"
     ]
    }
   ],
   "source": [
    "#!pip install catboost\n",
    "\n",
    "from sklearn.dummy import DummyClassifier\n",
    "from sklearn.tree import DecisionTreeClassifier\n",
    "from sklearn.naive_bayes import GaussianNB\n",
    "from sklearn.neighbors import KNeighborsClassifier\n",
    "from sklearn.ensemble import RandomForestClassifier\n",
    "from sklearn.discriminant_analysis import LinearDiscriminantAnalysis\n",
    "from sklearn.ensemble import AdaBoostClassifier\n",
    "from sklearn.neural_network import MLPClassifier\n",
    "from sklearn.gaussian_process import GaussianProcessClassifier\n",
    "from sklearn.svm import SVC\n",
    "from sklearn.ensemble import GradientBoostingClassifier\n",
    "from sklearn.ensemble import ExtraTreesClassifier\n",
    "from sklearn.ensemble import BaggingClassifier\n",
    "from sklearn.linear_model import RidgeClassifier\n",
    "from sklearn.linear_model import SGDClassifier\n",
    "from sklearn.ensemble import HistGradientBoostingClassifier\n",
    "\n",
    "\n",
    "\n",
    "models = [\n",
    "    DummyClassifier,\n",
    "    DecisionTreeClassifier,\n",
    "    GaussianNB,\n",
    "    KNeighborsClassifier,\n",
    "    RandomForestClassifier,\n",
    "    LinearDiscriminantAnalysis,\n",
    "    AdaBoostClassifier,\n",
    "    MLPClassifier,\n",
    "    SVC,\n",
    "    GaussianProcessClassifier,\n",
    "    GradientBoostingClassifier,\n",
    "    ExtraTreesClassifier,\n",
    "    BaggingClassifier,\n",
    "    RidgeClassifier,\n",
    "    SGDClassifier,\n",
    "    HistGradientBoostingClassifier,\n",
    "    \n",
    "]\n",
    "\n",
    "# Maak dict met scores voor elk model:\n",
    "score_dict = {}\n",
    "\n",
    "for model in models:\n",
    "    model_name = model()\n",
    "    model_name.fit(X, y)\n",
    "    score_dict[model_name] = model_name.score(X, y)\n",
    "    \n"
   ]
  },
  {
   "cell_type": "code",
   "execution_count": 11,
   "id": "b182184e",
   "metadata": {},
   "outputs": [
    {
     "name": "stderr",
     "output_type": "stream",
     "text": [
      "/tmp/ipykernel_126732/1258411724.py:4: FutureWarning: \n",
      "\n",
      "Passing `palette` without assigning `hue` is deprecated and will be removed in v0.14.0. Assign the `x` variable to `hue` and set `legend=False` for the same effect.\n",
      "\n",
      "  ax = sns.barplot(x=\"Model\", y=\"Score\", data=model_scores, palette=\"Greens\")\n"
     ]
    },
    {
     "data": {
      "text/plain": [
       "([0, 1, 2, 3, 4, 5, 6, 7, 8, 9, 10, 11, 12, 13, 14, 15],\n",
       " [Text(0, 0, 'DummyClassifier()'),\n",
       "  Text(1, 0, 'SGDClassifier()'),\n",
       "  Text(2, 0, 'GaussianNB()'),\n",
       "  Text(3, 0, 'RidgeClassifier()'),\n",
       "  Text(4, 0, 'LinearDiscriminantAnalysis()'),\n",
       "  Text(5, 0, 'AdaBoostClassifier()'),\n",
       "  Text(6, 0, 'SVC()'),\n",
       "  Text(7, 0, 'KNeighborsClassifier()'),\n",
       "  Text(8, 0, 'MLPClassifier()'),\n",
       "  Text(9, 0, 'GradientBoostingClassifier()'),\n",
       "  Text(10, 0, 'GaussianProcessClassifier()'),\n",
       "  Text(11, 0, 'BaggingClassifier()'),\n",
       "  Text(12, 0, 'RandomForestClassifier()'),\n",
       "  Text(13, 0, 'DecisionTreeClassifier()'),\n",
       "  Text(14, 0, 'ExtraTreesClassifier()'),\n",
       "  Text(15, 0, 'HistGradientBoostingClassifier()')])"
      ]
     },
     "execution_count": 11,
     "metadata": {},
     "output_type": "execute_result"
    },
    {
     "data": {
      "image/png": "[encoded data removed]",
      "text/plain": [
       "<Figure size 640x480 with 1 Axes>"
      ]
     },
     "metadata": {},
     "output_type": "display_data"
    }
   ],
   "source": [
    "model_scores = pd.DataFrame(list(score_dict.items()), columns=[\"Model\", \"Score\"])\n",
    "model_scores = model_scores.sort_values(by=[\"Score\"],ascending=True)\n",
    "\n",
    "ax = sns.barplot(x=\"Model\", y=\"Score\", data=model_scores, palette=\"Greens\")\n",
    "\n",
    "for i in ax.containers:\n",
    "    ax.bar_label(i,fmt=\"%.3f\") # Voeg labels toe, rond af op 3 decimalen.\n",
    "\n",
    "plt.xticks(rotation=90)"
   ]
  },
  {
   "cell_type": "markdown",
   "id": "7c169a22",
   "metadata": {},
   "source": [
    "Met SimpleImputer: Adaboost: 0.677\n",
    "Met KNNIMputer: Adaboost: 0.672"
   ]
  },
  {
   "cell_type": "code",
   "execution_count": null,
   "id": "acfa8736",
   "metadata": {},
   "outputs": [],
   "source": [
    "# Cross-validatie\n",
    "from sklearn.model_selection import cross_validate\n",
    "\n",
    "metric_scores = {}\n",
    "for model in models:\n",
    "    scores = cross_validate(model(), X, y,cv=5, return_train_score=True)\n",
    "    for key, val in scores.items():\n",
    "        scores[key] = val.mean()\n",
    "    metric_scores[f\"{model.__name__}\"] = scores\n",
    "    \n",
    "pd.DataFrame(metric_scores).T"
   ]
  },
  {
   "cell_type": "code",
   "execution_count": null,
   "id": "582e1310",
   "metadata": {},
   "outputs": [],
   "source": [
    "from sklearn.model_selection import cross_validate\n",
    "import matplotlib.pyplot as plt\n",
    "import seaborn as sns\n",
    "import pandas as pd\n",
    "import numpy as np\n",
    "\n",
    "cv_results = {}\n",
    "for model in models:\n",
    "    model_name = model.__name__\n",
    "    scores = cross_validate(model(), X, y, cv=5, \n",
    "                           scoring='accuracy', return_train_score=True)\n",
    "    cv_results[model_name] = {\n",
    "        'test_score': np.mean(scores['test_score']),\n",
    "        'train_score': np.mean(scores['train_score']),\n",
    "        'std': np.std(scores['test_score'])\n",
    "    }\n",
    "\n",
    "cv_df = pd.DataFrame(cv_results).T.reset_index()\n",
    "cv_df = cv_df.rename(columns={'index': 'Model'})\n",
    "cv_df = cv_df.sort_values('test_score', ascending=False)\n",
    "\n",
    "plt.figure(figsize=(12, 6))\n",
    "x = np.arange(len(cv_df))\n",
    "width = 0.35\n",
    "\n",
    "fig, ax = plt.subplots(figsize=(14, 8))\n",
    "bars1 = ax.bar(x - width/2, cv_df['test_score'], width, label='Validation Score', color='forestgreen')\n",
    "bars2 = ax.bar(x + width/2, cv_df['train_score'], width, label='Training Score', color='lightgreen')\n",
    "\n",
    "ax.errorbar(x - width/2, cv_df['test_score'], yerr=cv_df['std'], fmt='none', ecolor='black', capsize=5)\n",
    "\n",
    "ax.set_ylabel('Accuracy Score')\n",
    "ax.set_title('Cross-Validation Results (5-fold)')\n",
    "ax.set_xticks(x)\n",
    "ax.set_xticklabels(cv_df['Model'], rotation=90)\n",
    "ax.legend()\n",
    "\n",
    "def add_labels(bars):\n",
    "    for bar in bars:\n",
    "        height = bar.get_height()\n",
    "        ax.annotate(f'{height:.3f}',\n",
    "                   xy=(bar.get_x() + bar.get_width() / 2, height),\n",
    "                   xytext=(0, 3),  # 3 points vertical offset\n",
    "                   textcoords=\"offset points\",\n",
    "                   ha='center', va='bottom', rotation=0, fontsize=8)\n",
    "\n",
    "add_labels(bars1)\n",
    "add_labels(bars2)\n",
    "\n",
    "plt.tight_layout()\n",
    "plt.show()\n"
   ]
  },
  {
   "cell_type": "code",
   "execution_count": null,
   "id": "053dd49a",
   "metadata": {},
   "outputs": [],
   "source": [
    "# from sklearn.model_selection import RepeatedStratifiedKFold\n",
    "# from sklearn.model_selection import cross_val_score\n",
    "# from sklearn.ensemble import VotingClassifier\n",
    "\n",
    "# # Try with different base models\n",
    "# voting_clf = VotingClassifier(\n",
    "#     estimators=[\n",
    "#       #  ('xgb', XGBClassifier(use_label_encoder=False, eval_metric='logloss')),\n",
    "#         ('rf', RandomForestClassifier()),\n",
    "#         ('svc', SVC(probability=True, class_weight='balanced'))\n",
    "#     ],\n",
    "#     voting='soft'\n",
    "# )\n",
    "\n",
    "# cv = RepeatedStratifiedKFold(n_splits=5, n_repeats=5, random_state=42)\n",
    "# ensemble_scores = cross_val_score(voting_clf, X_train_imputed, y_train, cv=cv, scoring='f1')\n",
    "# print(f\"Ensemble score: {ensemble_scores.mean():.3f}\")"
   ]
  },
  {
   "cell_type": "code",
   "execution_count": null,
   "id": "6fb401d2",
   "metadata": {},
   "outputs": [],
   "source": [
    "top_model = model_scores.iloc[-1][\"Model\"]\n",
    "\n",
    "print(f\"Het beste model is: {top_model}\")"
   ]
  },
  {
   "cell_type": "code",
   "execution_count": null,
   "id": "2466cbc5",
   "metadata": {},
   "outputs": [],
   "source": [
    "from sklearn.feature_selection import SelectKBest\n",
    "from sklearn.model_selection import cross_validate\n",
    "\n",
    "metric_scores = {}\n",
    "k = 14\n",
    "\n",
    "while k:\n",
    "    X_select = SelectKBest(k=k).fit_transform(X, y)\n",
    "    scores = cross_validate(SVC(probability=True, random_state=1), X, y, cv=5, return_train_score=True)\n",
    "    for key, value in scores.items():\n",
    "        scores[key] = value.mean()\n",
    "    metric_scores[f\"{k} features\"] = scores\n",
    "    k -= 1\n",
    "\n",
    "(pd.DataFrame(metric_scores).T).head()\n",
    "\n",
    "# optimal_features = \n"
   ]
  },
  {
   "cell_type": "code",
   "execution_count": null,
   "id": "4b56c537",
   "metadata": {},
   "outputs": [],
   "source": [
    "import numpy as np\n",
    "import matplotlib.pyplot as plt\n",
    "from sklearn.model_selection import cross_val_predict, GridSearchCV\n",
    "from sklearn.metrics import roc_curve, auc\n",
    "import pandas as pd\n",
    "from sklearn.dummy import DummyClassifier\n",
    "from sklearn.tree import DecisionTreeClassifier\n",
    "from sklearn.naive_bayes import GaussianNB\n",
    "from sklearn.neighbors import KNeighborsClassifier\n",
    "from sklearn.ensemble import (RandomForestClassifier, AdaBoostClassifier,\n",
    "                             GradientBoostingClassifier, ExtraTreesClassifier,\n",
    "                             BaggingClassifier, HistGradientBoostingClassifier)\n",
    "from sklearn.discriminant_analysis import LinearDiscriminantAnalysis\n",
    "from sklearn.neural_network import MLPClassifier\n",
    "from sklearn.svm import SVC\n",
    "from sklearn.gaussian_process import GaussianProcessClassifier\n",
    "from sklearn.linear_model import RidgeClassifier, SGDClassifier\n",
    "from sklearn.calibration import CalibratedClassifierCV\n",
    "\n",
    "# Create dictionary of models to test\n",
    "models = {\n",
    "    'DummyClassifier': DummyClassifier(strategy='stratified', random_state=42),\n",
    "    'DecisionTreeClassifier': DecisionTreeClassifier(random_state=42),\n",
    "    'GaussianNB': GaussianNB(),\n",
    "    'KNeighborsClassifier': KNeighborsClassifier(),\n",
    "    'RandomForestClassifier': RandomForestClassifier(random_state=42), \n",
    "    'LinearDiscriminantAnalysis': LinearDiscriminantAnalysis(),\n",
    "    'AdaBoostClassifier': AdaBoostClassifier(random_state=42),\n",
    "    'MLPClassifier': MLPClassifier(max_iter=500, random_state=42),\n",
    "    'SVC': SVC(probability=True, random_state=1),\n",
    "    'GaussianProcessClassifier': GaussianProcessClassifier(random_state=42),\n",
    "    'GradientBoostingClassifier': GradientBoostingClassifier(random_state=42),\n",
    "    'ExtraTreesClassifier': ExtraTreesClassifier(random_state=42),\n",
    "    'BaggingClassifier': BaggingClassifier(random_state=42),\n",
    "    'RidgeClassifier': CalibratedClassifierCV(RidgeClassifier(random_state=42)),\n",
    "    'SGDClassifier': SGDClassifier(loss='log_loss', random_state=42),\n",
    "    'HistGradientBoostingClassifier': HistGradientBoostingClassifier(random_state=42)\n",
    "}\n",
    "\n",
    "# Evaluate all models using cross-validation\n",
    "results = {}\n",
    "for name, model in models.items():\n",
    "    print(f\"Evaluating {name}...\")\n",
    "    try:\n",
    "        # Get cross-validated predictions\n",
    "        y_pred_proba = cross_val_predict(model, X, y, cv=5, method='predict_proba')\n",
    "        \n",
    "        # Calculate AUC\n",
    "        fpr, tpr, _ = roc_curve(y, y_pred_proba[:, 1])\n",
    "        roc_auc = auc(fpr, tpr)\n",
    "        \n",
    "        results[name] = {\n",
    "            'auc': roc_auc,\n",
    "            'fpr': fpr,\n",
    "            'tpr': tpr\n",
    "        }\n",
    "        print(f\"  AUC: {roc_auc:.3f}\")\n",
    "    except Exception as e:\n",
    "        print(f\"  Error with {name}: {e}\")\n",
    "        continue\n",
    "\n",
    "# Sort results by AUC\n",
    "sorted_results = {k: v for k, v in sorted(results.items(), key=lambda item: item[1]['auc'], reverse=True)}\n",
    "\n",
    "# Plot AUC scores\n",
    "plt.figure(figsize=(12, 8))\n",
    "plt.barh(list(sorted_results.keys()), [v['auc'] for v in sorted_results.values()], color='cornflowerblue')\n",
    "plt.xlabel('AUC Score')\n",
    "plt.title('Model Performance Comparison (AUC)')\n",
    "plt.xlim(0.5, 1.0)  # AUC ranges from 0.5 (random) to 1.0 (perfect)\n",
    "for i, v in enumerate([v['auc'] for v in sorted_results.values()]):\n",
    "    plt.text(v + 0.01, i, f\"{v:.3f}\", va='center')\n",
    "plt.tight_layout()\n",
    "plt.show()\n",
    "\n",
    "# Get top 3 models\n",
    "top_models = list(sorted_results.keys())[:3]\n",
    "print(f\"\\nTop performing models: {', '.join(top_models)}\")\n",
    "\n",
    "# Define parameter grids for the top models\n",
    "param_grids = {}\n",
    "\n",
    "# Create appropriate grid for each model type (examples for common top performers)\n",
    "if 'AdaBoostClassifier' in top_models:\n",
    "    param_grids['AdaBoostClassifier'] = {\n",
    "        'n_estimators': [50, 100, 200],\n",
    "        'learning_rate': [0.01, 0.1, 0.5, 1.0],\n",
    "        'algorithm': ['SAMME', 'SAMME.R']\n",
    "    }\n",
    "    \n",
    "if 'RandomForestClassifier' in top_models:\n",
    "    param_grids['RandomForestClassifier'] = {\n",
    "        'n_estimators': [100, 200],\n",
    "        'max_depth': [None, 10, 20],\n",
    "        'min_samples_split': [2, 5],\n",
    "        'min_samples_leaf': [1, 2]\n",
    "    }\n",
    "    \n",
    "if 'GradientBoostingClassifier' in top_models:\n",
    "    param_grids['GradientBoostingClassifier'] = {\n",
    "        'n_estimators': [100, 200],\n",
    "        'learning_rate': [0.01, 0.1, 0.5],\n",
    "        'max_depth': [3, 5, 7],\n",
    "        'subsample': [0.8, 1.0]\n",
    "    }\n",
    "    \n",
    "if 'HistGradientBoostingClassifier' in top_models:\n",
    "    param_grids['HistGradientBoostingClassifier'] = {\n",
    "        'max_iter': [100, 200],\n",
    "        'learning_rate': [0.01, 0.1, 0.5],\n",
    "        'max_depth': [None, 5, 10]\n",
    "    }\n",
    "    \n",
    "if 'SVC' in top_models:\n",
    "    param_grids['SVC'] = {\n",
    "    'C': [0.025,0.03, 0.035, 0.04, 0.05, 0.1],\n",
    "    \n",
    "    'kernel': ['linear'], #, 'rbf', 'poly', 'sigmoid'],\n",
    "\n",
    "    'gamma': ['scale', 'auto', 0.0001, 0.001, 0.01, 0.1, 1],\n",
    "\n",
    "    #'degree': [2, 3, 4],\n",
    "    \n",
    "}\n",
    "    \n",
    "if 'LinearDiscriminantAnalysis' in top_models:\n",
    "    param_grids['LinearDiscriminantAnalysis'] = {\n",
    "        'solver': ['svd', 'lsqr', 'eigen'],\n",
    "        'shrinkage': [None, 'auto', 0.1, 0.5, 0.9]\n",
    "    }\n",
    "\n",
    "# Run grid search for the top models\n",
    "best_models = {}\n",
    "for model_name in top_models:\n",
    "    if model_name in param_grids:\n",
    "        print(f\"\\nOptimizing {model_name}...\")\n",
    "        grid_search = GridSearchCV(\n",
    "            models[model_name], \n",
    "            param_grids[model_name], \n",
    "            cv=5, \n",
    "            scoring='roc_auc',\n",
    "            n_jobs=-1\n",
    "        )\n",
    "        grid_search.fit(X, y)\n",
    "        \n",
    "        print(f\"Best parameters: {grid_search.best_params_}\")\n",
    "        print(f\"Best AUC: {grid_search.best_score_:.3f}\")\n",
    "        \n",
    "        # Save best model\n",
    "        best_models[model_name] = {\n",
    "            'model': grid_search.best_estimator_,\n",
    "            'params': grid_search.best_params_,\n",
    "            'auc': grid_search.best_score_\n",
    "        }\n",
    "    else:\n",
    "        print(f\"No parameter grid defined for {model_name}\")\n",
    "\n",
    "# Plot ROC curves for the best models\n",
    "plt.figure(figsize=(10, 8))\n",
    "plt.plot([0, 1], [0, 1], 'k--')  # Diagonal line\n",
    "\n",
    "# Original best models\n",
    "for i, (name, data) in enumerate(list(sorted_results.items())[:3]):\n",
    "    plt.plot(data['fpr'], data['tpr'], \n",
    "             label=f\"{name} (Original, AUC = {data['auc']:.3f})\")\n",
    "\n",
    "# Optimized models after grid search (if any)\n",
    "colors = ['darkorange', 'green', 'blue']\n",
    "for i, (name, data) in enumerate(best_models.items()):\n",
    "    if i < len(colors):\n",
    "        # Get predictions from best model\n",
    "        y_pred_proba = cross_val_predict(data['model'], X, y, cv=5, method='predict_proba')\n",
    "        fpr, tpr, _ = roc_curve(y, y_pred_proba[:, 1])\n",
    "        roc_auc = auc(fpr, tpr)\n",
    "        \n",
    "        plt.plot(fpr, tpr, color=colors[i], lw=2,\n",
    "                 label=f\"{name} (Optimized, AUC = {roc_auc:.3f})\")\n",
    "\n",
    "plt.xlim([0.0, 1.0])\n",
    "plt.ylim([0.0, 1.05])\n",
    "plt.xlabel('False Positive Rate')\n",
    "plt.ylabel('True Positive Rate')\n",
    "plt.title('ROC Curves for Best Models')\n",
    "plt.legend(loc=\"lower right\")\n",
    "plt.show()"
   ]
  },
  {
   "cell_type": "code",
   "execution_count": null,
   "id": "7d2eadf7",
   "metadata": {},
   "outputs": [],
   "source": []
  },
  {
   "cell_type": "markdown",
   "id": "b8a1019b",
   "metadata": {},
   "source": [
    "## Adaboost evaluatie:"
   ]
  },
  {
   "cell_type": "code",
   "execution_count": null,
   "id": "d3ed0312",
   "metadata": {},
   "outputs": [],
   "source": [
    "svc_param_grid = {\n",
    "    'C': [0.025, 0.03,0.033, 0.035,0.038, 0.04, 0.05, 0.1],\n",
    "    'kernel': ['linear'],  # 'rbf', 'poly', 'sigmoid'\n",
    "    'tol': [1e-1, 1e-6],\n",
    "    'shrinking': [True, False],\n",
    "    'cache_size': [100, 500, 1000]\n",
    "   # 'break_ties': [True, False]\n",
    "    # 'degree': [2, 3, 4],\n",
    "}\n",
    "\n",
    "svc_grid = GridSearchCV(\n",
    "    SVC(probability=True, random_state=42),\n",
    "    svc_param_grid,\n",
    "    cv=5,\n",
    "    scoring='roc_auc',\n",
    "    n_jobs=-1,\n",
    "    verbose=1\n",
    ")\n",
    "svc_grid.fit(X, y)\n",
    "print(f\"\\nBeste parameters: {svc_grid.best_params_}\")\n"
   ]
  },
  {
   "cell_type": "code",
   "execution_count": null,
   "id": "451d5b03",
   "metadata": {},
   "outputs": [],
   "source": [
    "from sklearn.model_selection import GridSearchCV\n",
    "from sklearn.svm import SVC\n",
    "from sklearn.model_selection import cross_val_predict\n",
    "from sklearn.metrics import roc_curve, auc, RocCurveDisplay\n",
    "import matplotlib.pyplot as plt\n",
    "\n",
    "svc_param_grid = {\n",
    "    'C': [0.025, 0.03,0.033, 0.035,0.038, 0.04, 0.05, 0.1],\n",
    "    'kernel': ['linear'],  # 'rbf', 'poly', 'sigmoid'\n",
    "    'tol': [1e-1, 1e-3, 1e-6],\n",
    "  #  'shrinking': [True, False],\n",
    "    'cache_size': [100, 500, 1000]\n",
    "   # 'break_ties': [True, False]\n",
    "    # 'degree': [2, 3, 4],\n",
    "}\n",
    "\n",
    "svc_grid = GridSearchCV(\n",
    "    SVC(probability=True, random_state=42),\n",
    "    svc_param_grid,\n",
    "    cv=5,\n",
    "    scoring='roc_auc',\n",
    "    n_jobs=-1,\n",
    "    verbose=1\n",
    ")\n",
    "\n",
    "svc_grid.fit(X, y)\n",
    "\n",
    "print(f\"\\nBeste hyperparameters: {svc_grid.best_params_}\")\n",
    "print(f\"AUC: {svc_grid.best_score_}\")\n",
    "\n",
    "best_svc = SVC(probability=True, random_state=1, **svc_grid.best_params_)\n",
    "\n",
    "y_pred_proba = cross_val_predict(best_svc, X, y, cv=5, method='predict_proba')\n",
    "fpr, tpr, _ = roc_curve(y, y_pred_proba[:, 1])\n",
    "roc_auc = auc(fpr, tpr)\n",
    "\n",
    "plt.figure(figsize=(8, 6))\n",
    "plt.plot(fpr, tpr, color='darkorange', lw=2, label=f'Optimized SVC (AUC = {roc_auc})')\n",
    "plt.plot([0, 1], [0, 1], 'k--', lw=2)\n",
    "plt.xlabel('False Positive Rate')\n",
    "plt.ylabel('True Positive Rate')\n",
    "plt.title('ROC Curve - Optimized SVC')\n",
    "plt.legend(loc=\"lower right\")\n",
    "plt.show()\n",
    "\n",
    "final_model = SVC(probability=True, random_state=1, **svc_grid.best_params_)\n",
    "final_model.fit(X, y)\n",
    "\n",
    "# y_submission = final_model.predict_proba(X_test)[:, 1]  # Uncomment and use with actual test data"
   ]
  },
  {
   "cell_type": "markdown",
   "id": "e2cb1a75",
   "metadata": {},
   "source": [
    "## TO-dO: geeft het optimale aantal features als variabele door..."
   ]
  },
  {
   "cell_type": "code",
   "execution_count": null,
   "id": "d3e70ba3",
   "metadata": {},
   "outputs": [],
   "source": [
    "# metric_scores = {}\n",
    "# max_depth = 1\n",
    "# max_depth_limit = 40\n",
    "\n",
    "# while max_depth <= max_depth_limit:\n",
    "#     clf = RandomForestClassifier(max_depth=max_depth, max_features=14)\n",
    "#     scores = cross_validate(clf, X_train_imputed, y_train, cv=5, return_train_score=True)\n",
    "    \n",
    "#     # Average the scores\n",
    "#     for key, val in scores.items():\n",
    "#         scores[key] = val.mean()\n",
    "    \n",
    "#     metric_scores[f\"max_depth={max_depth}\"] = scores\n",
    "#     max_depth += 1\n",
    "\n",
    "# test = pd.DataFrame(metric_scores).T\n",
    "# test"
   ]
  },
  {
   "cell_type": "markdown",
   "id": "5cd38af2",
   "metadata": {},
   "source": [
    "Train:\n"
   ]
  },
  {
   "cell_type": "code",
   "execution_count": null,
   "id": "3b887811",
   "metadata": {},
   "outputs": [],
   "source": [
    "test2 = test.sort_values(by=['test_score'],ascending=False)\n",
    "\n",
    "test2[[\"test_score\"][0]][0]\n",
    "test2"
   ]
  },
  {
   "cell_type": "code",
   "execution_count": 13,
   "id": "38103194",
   "metadata": {},
   "outputs": [],
   "source": [
    "#model = RandomForestClassifier(max_depth=25).fit(X_train_imputed, y_train)\n",
    "\n",
    "model = AdaBoostClassifier(learning_rate=0.01, n_estimators=350, random_state=1).fit(X, y)\n",
    "\n",
    "#model = SVC(kernel=\"linear\", class_weight=\"balanced\", C=0.03, tol=0.1)\n",
    "\n",
    "#model = RidgeClassifier(alpha=1.0, class_weight=None, fit_intercept=False, solver=\"auto\")\n",
    "\n",
    "# model.fit(X, y)"
   ]
  },
  {
   "cell_type": "code",
   "execution_count": null,
   "id": "38d9d953",
   "metadata": {},
   "outputs": [],
   "source": [
    "y_pred = model.predict(X)\n",
    "# y_pred_ = "
   ]
  },
  {
   "cell_type": "code",
   "execution_count": null,
   "id": "18922cff",
   "metadata": {},
   "outputs": [],
   "source": [
    "# Model opslaan:\n",
    "import joblib\n",
    "joblib.dump(model, \"/home/floris/Documenten/git_repo/P3_2025_Ivar_Floris_ML_Competitie/super_model.joblib\")"
   ]
  },
  {
   "cell_type": "code",
   "execution_count": 14,
   "id": "c35cd825",
   "metadata": {},
   "outputs": [
    {
     "data": {
      "text/plain": [
       "['/home/floris/Documenten/git_repo/P3_2025_Ivar_Floris_ML_Competitie/model_pipeline.joblib']"
      ]
     },
     "execution_count": 14,
     "metadata": {},
     "output_type": "execute_result"
    }
   ],
   "source": [
    "pipeline_steps = {\n",
    "    \"model\": model,\n",
    "    \"ordinal_imputer\": ordinal_feature_imputer,\n",
    "    \"onehot_encoder\": onehot_encoder,\n",
    "    \"continuous_imputer\": continuous_imputer,\n",
    "    \"continuous_scaler\": continuous_scaler,\n",
    "    \"features_ordinal\": features_ordinal,\n",
    "    \"features_continuous\": features_continuous\n",
    "}\n",
    "\n",
    "joblib.dump(pipeline_steps, \"/home/floris/Documenten/git_repo/P3_2025_Ivar_Floris_ML_Competitie/model_pipeline.joblib\") \n"
   ]
  },
  {
   "cell_type": "code",
   "execution_count": null,
   "id": "a28cc565",
   "metadata": {},
   "outputs": [],
   "source": [
    "filename=\"competition-train(1).csv\"\n",
    "test = pd.read_csv(filename, skiprows=30)\n",
    "test[\"sex\"]"
   ]
  },
  {
   "cell_type": "code",
   "execution_count": null,
   "id": "0cc26546",
   "metadata": {},
   "outputs": [],
   "source": [
    "from sklearn.metrics import confusion_matrix, accuracy_score, RocCurveDisplay\n",
    "\n",
    "acc_smote = accuracy_score(y_test, y_pred)\n",
    "\n",
    "print(f\"De accuracy is {acc_smote} met SMOTE.\")"
   ]
  },
  {
   "cell_type": "code",
   "execution_count": null,
   "id": "2c0fa65f",
   "metadata": {},
   "outputs": [],
   "source": [
    "from sklearn.metrics import classification_report\n",
    "print(classification_report(y_test, y_pred))"
   ]
  },
  {
   "cell_type": "code",
   "execution_count": null,
   "id": "3e06aeb8",
   "metadata": {},
   "outputs": [],
   "source": [
    "sns.heatmap(confusion_matrix(y_test, y_pred), fmt='d', annot=True)"
   ]
  },
  {
   "cell_type": "code",
   "execution_count": null,
   "id": "da1cd4db",
   "metadata": {},
   "outputs": [],
   "source": [
    "#model.feature_importances_.argmax()"
   ]
  },
  {
   "cell_type": "code",
   "execution_count": null,
   "id": "2010266c",
   "metadata": {},
   "outputs": [],
   "source": [
    "error_rates = []\n",
    "test = 0.001\n",
    "for n in range(0, 1000):\n",
    "    test += 0.001\n",
    "    model = SVC(C=test, class_weight='balanced', kernel='linear', tol=0.1)\n",
    "    model.fit(X, y)\n",
    "    preds = model.predict(X)\n",
    "    err = 1 - accuracy_score(y, preds)\n",
    "\n",
    "    error_rates.append(err)\n",
    "plt.plot(range(1, 96), error_rates)"
   ]
  },
  {
   "cell_type": "code",
   "execution_count": null,
   "id": "0fa96bc0",
   "metadata": {},
   "outputs": [],
   "source": [
    "\n",
    "\n",
    "# feats = pd.DataFrame(\n",
    "#     index=features, data=model.feature_importances_, columns=['Importance'])\n",
    "\n",
    "# imp_feats = feats[feats['Importance'] > 0]\n",
    "# imp_feats['Importance'].sum()\n",
    "# imp_feats.sort_values(by='Importance').plot(kind='bar')"
   ]
  },
  {
   "cell_type": "markdown",
   "id": "053725ea",
   "metadata": {},
   "source": [
    "## Voor Ridge classifier"
   ]
  },
  {
   "cell_type": "code",
   "execution_count": null,
   "id": "9e699d4e",
   "metadata": {},
   "outputs": [],
   "source": [
    "from sklearn.model_selection import GridSearchCV\n",
    "from sklearn.linear_model import RidgeClassifier\n",
    "\n",
    "param_grid = {\n",
    "    'alpha': [0.001, 0.01, 0.1, 1.0, 10.0, 100.0],\n",
    "    'solver': ['auto', 'svd', 'cholesky', 'lsqr', 'sparse_cg', 'sag', 'saga'],\n",
    "    'class_weight': [None, 'balanced'],\n",
    "    'fit_intercept': [True, False]\n",
    "}\n",
    "\n",
    "grid_search = GridSearchCV(\n",
    "    RidgeClassifier(random_state=42), \n",
    "    param_grid, \n",
    "    cv=5, \n",
    "    scoring='accuracy', \n",
    "    return_train_score=True\n",
    ")\n",
    "\n",
    "grid_search.fit(X_test_imputed, y_train)  # Using full dataset\n",
    "print(f\"Best parameters: {grid_search.best_params_}\")\n",
    "print(f\"Best cross-validation score: {grid_search.best_score_:.3f}\")\n",
    "\n",
    "# Create final model with best parameters\n",
    "best_ridge = RidgeClassifier(**grid_search.best_params_, random_state=42)\n",
    "best_ridge.fit(X_test_imputed, y_train)\n",
    "\n",
    "# Now best_ridge is ready for predictions on test data"
   ]
  },
  {
   "cell_type": "code",
   "execution_count": null,
   "id": "2e2542a4",
   "metadata": {},
   "outputs": [],
   "source": [
    "Voor Randomforest:"
   ]
  },
  {
   "cell_type": "code",
   "execution_count": null,
   "id": "6a314624",
   "metadata": {},
   "outputs": [],
   "source": [
    "from sklearn.model_selection import GridSearchCV\n",
    "from sklearn.ensemble import RandomForestClassifier\n",
    "\n",
    "param_grid = {\n",
    "    'n_estimators': [100, 200, 300],\n",
    "    'max_depth': [None, 10, 20, 30],\n",
    "    'min_samples_split': [2, 5, 10],\n",
    "    'min_samples_leaf': [1, 2, 4],\n",
    "    'max_features': ['sqrt', 'log2', None]\n",
    "}\n",
    "\n",
    "grid_search = GridSearchCV(\n",
    "    RandomForestClassifier(random_state=42), \n",
    "    param_grid, \n",
    "    cv=5, \n",
    "    scoring='accuracy', \n",
    "    return_train_score=True\n",
    ")\n",
    "\n",
    "grid_search.fit(X_train_imputed, y_train)\n",
    "print(f\"Best parameters: {grid_search.best_params_}\")\n",
    "print(f\"Best cross-validation score: {grid_search.best_score_:.3f}\")\n"
   ]
  },
  {
   "cell_type": "markdown",
   "id": "7359b12d",
   "metadata": {},
   "source": [
    "## Voor SVC:"
   ]
  },
  {
   "cell_type": "code",
   "execution_count": null,
   "id": "1a0fb4de",
   "metadata": {},
   "outputs": [],
   "source": [
    "from sklearn.model_selection import GridSearchCV\n",
    "from sklearn.svm import SVC\n",
    "\n",
    "param_grid = {\n",
    "    'C': [0.1, 1, 10, 100],  \n",
    "    'kernel': ['linear', 'rbf', 'poly'],\n",
    "    'gamma': ['scale', 'auto', 0.01, 0.001],\n",
    "    'degree': [2, 3]  # only relevant for poly kernel\n",
    "}\n",
    "\n",
    "grid_search = GridSearchCV(\n",
    "    SVC(), \n",
    "    param_grid, \n",
    "    cv=5, \n",
    "    scoring='accuracy', \n",
    "    return_train_score=True\n",
    ")\n",
    "\n",
    "grid_search.fit(X_train_imputed, y_train)\n",
    "print(f\"Best parameters: {grid_search.best_params_}\")\n",
    "print(f\"Best cross-validation score: {grid_search.best_score_:.3f}\")\n"
   ]
  },
  {
   "cell_type": "markdown",
   "id": "192b9e09",
   "metadata": {},
   "source": [
    "## Voor adaboost\n"
   ]
  },
  {
   "cell_type": "code",
   "execution_count": null,
   "id": "13677efd",
   "metadata": {},
   "outputs": [],
   "source": [
    "from sklearn.model_selection import GridSearchCV\n",
    "\n",
    "param_grid = {\n",
    "    'n_estimators': [75, 100, 125, 150, 200, 300],\n",
    "    'learning_rate': [0.5, 1.0, 1.5, 2.0]\n",
    "}\n",
    "\n",
    "grid_search = GridSearchCV(\n",
    "    AdaBoostClassifier(), \n",
    "    param_grid, \n",
    "    cv=5, \n",
    "    scoring='accuracy', \n",
    "    return_train_score=True\n",
    ")\n",
    "\n",
    "grid_search.fit(X_train_imputed, y_train)\n",
    "print(f\"Best parameters: {grid_search.best_params_}\")\n",
    "print(f\"Best cross-validation score: {grid_search.best_score_:.3f}\")\n"
   ]
  },
  {
   "cell_type": "code",
   "execution_count": null,
   "id": "14b32702",
   "metadata": {},
   "outputs": [],
   "source": [
    "# from sklearn.metrics import RocCurveDisplay\n",
    "\n",
    "# # RidgeClassifier has decision_function but not predict_proba\n",
    "# y_scores = model.decision_function(X_test_imputed)\n",
    "\n",
    "# # Plot ROC curve with decision function scores\n",
    "# RocCurveDisplay.from_predictions(\n",
    "#     y_test,\n",
    "#     y_scores,  # Use raw decision scores\n",
    "#     plot_chance_level=True\n",
    "# )\n"
   ]
  },
  {
   "cell_type": "code",
   "execution_count": null,
   "id": "b1f5ba0e",
   "metadata": {},
   "outputs": [],
   "source": [
    "from sklearn.metrics import RocCurveDisplay\n",
    "\n",
    "y_pred_probability = model.predict_proba(X_test_imputed)\n",
    "\n",
    "RocCurveDisplay.from_predictions(\n",
    "    y_test,\n",
    "    y_pred_probability[:, 1],\n",
    "    plot_chance_level=True, \n",
    ")\n",
    "\n",
    "print(model)"
   ]
  },
  {
   "cell_type": "code",
   "execution_count": null,
   "id": "5ea20690",
   "metadata": {},
   "outputs": [],
   "source": [
    "from sklearn.model_selection import cross_val_predict\n",
    "from sklearn.metrics import roc_curve, auc, RocCurveDisplay\n",
    "import matplotlib.pyplot as plt\n",
    "\n",
    "# Choose your model (example with AdaBoost)\n",
    "model = AdaBoostClassifier()\n",
    "\n",
    "# 1. Get cross-validated predictions\n",
    "# This ensures each sample is predicted when it's in a held-out fold\n",
    "y_pred_proba = cross_val_predict(model, X, y, cv=5, method='predict_proba')\n",
    "\n",
    "# 2. Plot ROC curve\n",
    "fpr, tpr, _ = roc_curve(y, y_pred_proba[:, 1])\n",
    "roc_auc = auc(fpr, tpr)\n",
    "\n",
    "plt.figure(figsize=(8, 6))\n",
    "plt.plot(fpr, tpr, color='darkorange', lw=2, label=f'ROC curve (area = {roc_auc:.2f})')\n",
    "plt.plot([0, 1], [0, 1], color='navy', lw=2, linestyle='--')\n",
    "plt.xlim([0.0, 1.0])\n",
    "plt.ylim([0.0, 1.05])\n",
    "plt.xlabel('False Positive Rate')\n",
    "plt.ylabel('True Positive Rate')\n",
    "plt.title('Receiver Operating Characteristic')\n",
    "plt.legend(loc=\"lower right\")\n",
    "plt.show()\n",
    "\n",
    "print(f\"AUC: {roc_auc:.3f}\")\n"
   ]
  }
 ],
 "metadata": {
  "kernelspec": {
   "display_name": "base",
   "language": "python",
   "name": "python3"
  },
  "language_info": {
   "codemirror_mode": {
    "name": "ipython",
    "version": 3
   },
   "file_extension": ".py",
   "mimetype": "text/x-python",
   "name": "python",
   "nbconvert_exporter": "python",
   "pygments_lexer": "ipython3",
   "version": "3.12.7"
  }
 },
 "nbformat": 4,
 "nbformat_minor": 5
}
